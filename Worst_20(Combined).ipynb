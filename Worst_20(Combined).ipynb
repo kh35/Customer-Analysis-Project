{
 "cells": [
  {
   "cell_type": "markdown",
   "id": "45a3535d",
   "metadata": {},
   "source": [
    "### Data Extraction with Beautiful Soup"
   ]
  },
  {
   "cell_type": "markdown",
   "id": "2c043a75",
   "metadata": {},
   "source": [
    "# The worst 20 companies"
   ]
  },
  {
   "cell_type": "code",
   "execution_count": 40,
   "id": "4ae5dffb",
   "metadata": {},
   "outputs": [],
   "source": [
    "import requests\n",
    "from bs4 import BeautifulSoup"
   ]
  },
  {
   "cell_type": "markdown",
   "id": "e403ddf7",
   "metadata": {},
   "source": [
    "1. For loop break \n",
    "\n",
    "X work in list comprehension\n",
    "\n",
    "\n",
    "2. remove None value and make it inplace=True\n",
    "3. list ouput then make it work "
   ]
  },
  {
   "cell_type": "code",
   "execution_count": 62,
   "id": "6832e35a",
   "metadata": {
    "scrolled": false
   },
   "outputs": [],
   "source": [
    "response = requests.get('https://www.trustpilot.com/review/wings.com.pk?page=1')\n",
    "soup = BeautifulSoup(response.content, 'html.parser')\n",
    "list_items = soup.find_all('div', {'styles_cardWrapper__LcCPA styles_show__HUXRb styles_reviewCard__9HxJJ'})    \n",
    "wcm = [result.find(class_=\"typography_body-l__KUYFJ typography_appearance-default__AAY17 typography_color-black__5LYEn\").get_text() for result in list_items[0:8]]\n",
    "wcm_ = [result.find(class_=\"typography_heading-s__f7029 typography_appearance-default__AAY17\").get_text() for result in list_items[8:11]]\n",
    "wcm_1 = wcm + wcm_"
   ]
  },
  {
   "cell_type": "code",
   "execution_count": 42,
   "id": "e93ad4a0",
   "metadata": {},
   "outputs": [],
   "source": [
    "response = requests.get('https://www.trustpilot.com/review/outworq.com')\n",
    "soup = BeautifulSoup(response.content, 'html.parser')\n",
    "list_items = soup.find_all('div', {'styles_cardWrapper__LcCPA styles_show__HUXRb styles_reviewCard__9HxJJ'})\n",
    "wcm_2 = [result.find(class_=\"typography_body-l__KUYFJ typography_appearance-default__AAY17 typography_color-black__5LYEn\").get_text() for result in list_items]"
   ]
  },
  {
   "cell_type": "code",
   "execution_count": 43,
   "id": "8313c497",
   "metadata": {},
   "outputs": [],
   "source": [
    "response = requests.get('https://www.trustpilot.com/review/jerseyloco.com')\n",
    "soup = BeautifulSoup(response.content, 'html.parser')\n",
    "list_items = soup.find_all('div', {'styles_cardWrapper__LcCPA styles_show__HUXRb styles_reviewCard__9HxJJ'})\n",
    "wcm_3 = [result.find(class_=\"typography_body-l__KUYFJ typography_appearance-default__AAY17 typography_color-black__5LYEn\").get_text() for result in list_items]"
   ]
  },
  {
   "cell_type": "code",
   "execution_count": 44,
   "id": "c8c4eb28",
   "metadata": {},
   "outputs": [],
   "source": [
    "response = requests.get('https://www.trustpilot.com/review/aaashirt.ru')\n",
    "soup = BeautifulSoup(response.content, 'html.parser')\n",
    "list_items = soup.find_all('div', {'styles_cardWrapper__LcCPA styles_show__HUXRb styles_reviewCard__9HxJJ'})\n",
    "wcm_4 = [result.find(class_=\"typography_body-l__KUYFJ typography_appearance-default__AAY17 typography_color-black__5LYEn\").get_text() for result in list_items]"
   ]
  },
  {
   "cell_type": "code",
   "execution_count": 45,
   "id": "9b35c85c",
   "metadata": {},
   "outputs": [],
   "source": [
    "response = requests.get('https://www.trustpilot.com/review/zartoni.com')\n",
    "soup = BeautifulSoup(response.content, 'html.parser')\n",
    "list_items = soup.find_all('div', {'styles_cardWrapper__LcCPA styles_show__HUXRb styles_reviewCard__9HxJJ'})\n",
    "wcm_5 = [result.find(class_=\"typography_body-l__KUYFJ typography_appearance-default__AAY17 typography_color-black__5LYEn\").get_text() for result in list_items]"
   ]
  },
  {
   "cell_type": "code",
   "execution_count": 46,
   "id": "8ad2c81b",
   "metadata": {},
   "outputs": [],
   "source": [
    "response = requests.get('https://www.trustpilot.com/review/www.tenthousand.cc')\n",
    "soup = BeautifulSoup(response.content, 'html.parser')\n",
    "list_items = soup.find_all('div', {'styles_cardWrapper__LcCPA styles_show__HUXRb styles_reviewCard__9HxJJ'})\n",
    "wcm_6 = [result.find(class_=\"typography_body-l__KUYFJ typography_appearance-default__AAY17 typography_color-black__5LYEn\").get_text() for result in list_items]"
   ]
  },
  {
   "cell_type": "code",
   "execution_count": 47,
   "id": "d424588a",
   "metadata": {},
   "outputs": [],
   "source": [
    "response = requests.get('https://www.trustpilot.com/review/baobabclothing.com')\n",
    "soup = BeautifulSoup(response.content, 'html.parser')\n",
    "list_items = soup.find_all('div', {'styles_cardWrapper__LcCPA styles_show__HUXRb styles_reviewCard__9HxJJ'})\n",
    "wcm_7 = [result.find(class_=\"typography_body-l__KUYFJ typography_appearance-default__AAY17 typography_color-black__5LYEn\").get_text() for result in list_items]"
   ]
  },
  {
   "cell_type": "code",
   "execution_count": 48,
   "id": "9f184429",
   "metadata": {},
   "outputs": [],
   "source": [
    "response = requests.get('https://www.trustpilot.com/review/birddogs.com')\n",
    "soup = BeautifulSoup(response.content, 'html.parser')\n",
    "list_items = soup.find_all('div', {'styles_cardWrapper__LcCPA styles_show__HUXRb styles_reviewCard__9HxJJ'})\n",
    "wcm_8 = [result.find(class_=\"typography_body-l__KUYFJ typography_appearance-default__AAY17 typography_color-black__5LYEn\").get_text() for result in list_items]"
   ]
  },
  {
   "cell_type": "code",
   "execution_count": 49,
   "id": "b5d74bf0",
   "metadata": {},
   "outputs": [],
   "source": [
    "response = requests.get('https://www.trustpilot.com/review/shopgwens.com')\n",
    "soup = BeautifulSoup(response.content, 'html.parser')\n",
    "list_items = soup.find_all('div', {'styles_cardWrapper__LcCPA styles_show__HUXRb styles_reviewCard__9HxJJ'})\n",
    "wcm_9 = [result.find(class_=\"typography_body-l__KUYFJ typography_appearance-default__AAY17 typography_color-black__5LYEn\").get_text() for result in list_items]"
   ]
  },
  {
   "cell_type": "code",
   "execution_count": 50,
   "id": "14be3ae1",
   "metadata": {},
   "outputs": [],
   "source": [
    "response = requests.get('https://www.trustpilot.com/review/leathersclub.com')\n",
    "soup = BeautifulSoup(response.content, 'html.parser')\n",
    "list_items = soup.find_all('div', {'styles_cardWrapper__LcCPA styles_show__HUXRb styles_reviewCard__9HxJJ'})\n",
    "wcm_10 = [result.find(class_=\"typography_body-l__KUYFJ typography_appearance-default__AAY17 typography_color-black__5LYEn\").get_text() for result in list_items]"
   ]
  },
  {
   "cell_type": "code",
   "execution_count": 51,
   "id": "00c4b071",
   "metadata": {},
   "outputs": [],
   "source": [
    "response = requests.get('https://www.trustpilot.com/review/worldsoccershop.com')\n",
    "soup = BeautifulSoup(response.content, 'html.parser')\n",
    "list_items = soup.find_all('div', {'styles_cardWrapper__LcCPA styles_show__HUXRb styles_reviewCard__9HxJJ'})\n",
    "wcm_11 = [result.find(class_=\"typography_body-l__KUYFJ typography_appearance-default__AAY17 typography_color-black__5LYEn\").get_text() for result in list_items]"
   ]
  },
  {
   "cell_type": "code",
   "execution_count": 52,
   "id": "c6315038",
   "metadata": {},
   "outputs": [],
   "source": [
    "response = requests.get('https://www.trustpilot.com/review/kleinepsteinparker.com')\n",
    "soup = BeautifulSoup(response.content, 'html.parser')\n",
    "list_items = soup.find_all('div', {'styles_cardWrapper__LcCPA styles_show__HUXRb styles_reviewCard__9HxJJ'})\n",
    "wcm_12 = [result.find(class_=\"typography_body-l__KUYFJ typography_appearance-default__AAY17 typography_color-black__5LYEn\").get_text() for result in list_items]"
   ]
  },
  {
   "cell_type": "code",
   "execution_count": 53,
   "id": "2002c3ac",
   "metadata": {},
   "outputs": [],
   "source": [
    "response = requests.get('https://www.trustpilot.com/review/weargiga.com')\n",
    "soup = BeautifulSoup(response.content, 'html.parser')\n",
    "list_items = soup.find_all('div', {'styles_cardWrapper__LcCPA styles_show__HUXRb styles_reviewCard__9HxJJ'})\n",
    "wcm_13 = [result.find(class_=\"typography_body-l__KUYFJ typography_appearance-default__AAY17 typography_color-black__5LYEn\").get_text() for result in list_items]"
   ]
  },
  {
   "cell_type": "code",
   "execution_count": 54,
   "id": "3cc767f0",
   "metadata": {
    "scrolled": true
   },
   "outputs": [],
   "source": [
    "response = requests.get('https://www.trustpilot.com/review/quinnshop.com')\n",
    "soup = BeautifulSoup(response.content, 'html.parser')\n",
    "list_items = soup.find_all('div', {'styles_cardWrapper__LcCPA styles_show__HUXRb styles_reviewCard__9HxJJ'})\n",
    "wcmm = [result.find(class_=\"typography_body-l__KUYFJ typography_appearance-default__AAY17 typography_color-black__5LYEn\").get_text() for result in list_items[0:10]]\n",
    "wcmm_ = [result.find(class_=\"typography_heading-s__f7029 typography_appearance-default__AAY17\").get_text() for result in list_items[10:12]]\n",
    "wcm_14 = wcmm + wcmm_"
   ]
  },
  {
   "cell_type": "code",
   "execution_count": 55,
   "id": "91b68f45",
   "metadata": {},
   "outputs": [],
   "source": [
    "response = requests.get('https://www.trustpilot.com/review/historicalemporium.com')\n",
    "soup = BeautifulSoup(response.content, 'html.parser')\n",
    "list_items = soup.find_all('div', {'styles_cardWrapper__LcCPA styles_show__HUXRb styles_reviewCard__9HxJJ'})\n",
    "wcm_15 = [result.find(class_=\"typography_body-l__KUYFJ typography_appearance-default__AAY17 typography_color-black__5LYEn\").get_text() for result in list_items]"
   ]
  },
  {
   "cell_type": "code",
   "execution_count": 56,
   "id": "f3d3bfce",
   "metadata": {},
   "outputs": [],
   "source": [
    "response = requests.get('https://www.trustpilot.com/review/www.beltoutlet.com')\n",
    "soup = BeautifulSoup(response.content, 'html.parser')\n",
    "list_items = soup.find_all('div', {'styles_cardWrapper__LcCPA styles_show__HUXRb styles_reviewCard__9HxJJ'})\n",
    "wcm_16 = [result.find(class_=\"typography_body-l__KUYFJ typography_appearance-default__AAY17 typography_color-black__5LYEn\").get_text() for result in list_items]"
   ]
  },
  {
   "cell_type": "code",
   "execution_count": 57,
   "id": "a57abcef",
   "metadata": {},
   "outputs": [],
   "source": [
    "response = requests.get('https://www.trustpilot.com/review/matchutailor.com')\n",
    "soup = BeautifulSoup(response.content, 'html.parser')\n",
    "list_items = soup.find_all('div', {'styles_cardWrapper__LcCPA styles_show__HUXRb styles_reviewCard__9HxJJ'})\n",
    "wcm_17 = [result.find(class_=\"typography_body-l__KUYFJ typography_appearance-default__AAY17 typography_color-black__5LYEn\").get_text() for result in list_items]"
   ]
  },
  {
   "cell_type": "code",
   "execution_count": 58,
   "id": "1419a366",
   "metadata": {},
   "outputs": [],
   "source": [
    "response = requests.get('https://www.trustpilot.com/review/publicrecapparel.com')\n",
    "soup = BeautifulSoup(response.content, 'html.parser')\n",
    "list_items = soup.find_all('div', {'styles_cardWrapper__LcCPA styles_show__HUXRb styles_reviewCard__9HxJJ'})\n",
    "wcm_18 = [result.find(class_=\"typography_body-l__KUYFJ typography_appearance-default__AAY17 typography_color-black__5LYEn\").get_text() for result in list_items]"
   ]
  },
  {
   "cell_type": "code",
   "execution_count": 59,
   "id": "4312b95a",
   "metadata": {},
   "outputs": [],
   "source": [
    "response = requests.get('https://www.trustpilot.com/review/kingsizememberrewards.com')\n",
    "soup = BeautifulSoup(response.content, 'html.parser')\n",
    "list_items = soup.find_all('div', {'styles_cardWrapper__LcCPA styles_show__HUXRb styles_reviewCard__9HxJJ'})\n",
    "wcm_19 = [result.find(class_=\"typography_body-l__KUYFJ typography_appearance-default__AAY17 typography_color-black__5LYEn\").get_text() for result in list_items]"
   ]
  },
  {
   "cell_type": "code",
   "execution_count": 60,
   "id": "ae74063b",
   "metadata": {},
   "outputs": [],
   "source": [
    "response = requests.get('https://www.trustpilot.com/review/campsaver.com')\n",
    "soup = BeautifulSoup(response.content, 'html.parser')\n",
    "list_items = soup.find_all('div', {'styles_cardWrapper__LcCPA styles_show__HUXRb styles_reviewCard__9HxJJ'})\n",
    "wcm_20 = [result.find(class_=\"typography_body-l__KUYFJ typography_appearance-default__AAY17 typography_color-black__5LYEn\").get_text() for result in list_items]"
   ]
  },
  {
   "cell_type": "code",
   "execution_count": 61,
   "id": "79c716fc",
   "metadata": {
    "scrolled": true
   },
   "outputs": [
    {
     "data": {
      "text/plain": [
       "['I bought summer trousers totally satisfied, low price good quality.',\n",
       " 'Have very good experience with wings Stuff is super cool Just try it you will love the quality #wings #fineststuff #satisfied #staysafe',\n",
       " 'Product Awesome Packing jst amazing so soft nd looking elegant, delivery timing also good.....i jst loved it...😊',\n",
       " 'The best quality with a reasonable price. Outclass leather products and interesting T Shirt Designs.',\n",
       " 'I got a beautiful lovely leather wallet. Packing is just marvellous, royal look and feel.',\n",
       " 'The shirts are awesome at a reasonable price. Design and quality are also unique..',\n",
       " 'Loved your products, highly satisfied with your quality.',\n",
       " 'Good product quality and fast delivery :D',\n",
       " 'Awsum products with intime delivery',\n",
       " 'These goods are superb and do not appear to be inexpensive. The cloth is thick and pleasant to the touch, much better than I expected for the price, and it arrived quickly. Very comfy and well-fitting.',\n",
       " 'STAY AWAY.  Don’t trust these fake reviews.  The pants are the worst quality I’ve ever bought.  They arrived missing a belt loop and with a hole in the left pocket.  The material feels like cheap 1970s plasticky polyester.  Man did I fall for the slick marketing and fake reviews.  This is bad Chinese garbage.',\n",
       " 'Ordered stretch trousers 40 in waist 33 leg when they finally arrived honestly they are more like 36 waist and 28 leg with about 1 mm stretch just chucked straight in the bin cba to send back.Just order from amazon 100% reliability and its EASY to return',\n",
       " 'I got the wrong color of pants and they have one of the poorest customer support services I have ever experienced. They still haven’t properly addressed the mistake even though I have been messaging them via different channels. Makes it seem like a one man operation.',\n",
       " 'The design of the pants is really modern which is great for business wear. The fabric is firm and durable even if you try stretching it out, it still goes back into place. A great deal for such quality pants.',\n",
       " 'Extremely cheap material and 2/10 workmanship. You’re not only wearing plastic, you’re wearing something that looks and feels plastic. This can be bought at discount shops for $25 here, but it’s worth $5-10 max.Let this be the first real review since the others obviously look fake (posted around the same date, reviewers have only 1 review on their account and they have no further reviews on the company page since the fake ones were posted).This isn’t the only deceit these people participate in. Their “founders picture” on the website is a stock image. There is no address listed on their site and the product is shipped from China. This leads me to conclude this is a knockoff dropshipping brand with false advertising and marketing. I’ll be reporting them to the FTC in the usa and whatever the european version of that is for false claims and fake reviews. Furthermore I’ll report them to facebook when they ask me to fill in the post purchase survey.',\n",
       " 'When the shirts arrived - very quickly in fairness to them - I was very pleased. The quality seemed good. However, 2/3 washes later the shirts are beginning to fall apart. Having raised my issue with jersey loco I was told that I was washing them incorrectly!! Great customer service guys!!! I wash the kit if a junior football team every week so I know what I am doing!!$100 down the drain. Avoid like the plague…:if you want to buy crap fakes go elsewhere.',\n",
       " 'Good luck to get refunded.Phoned at least 5x, 1st time spoke to someone who said someone would call back, never happened. The 4 other times, answering machine full.Wrote many times, useless.Quality was more than fine but size was not appropriate.I paid to have my package sent back to me if no recipient, never happened either.',\n",
       " \"Do NOT order Jerseys from this website. I've yet to receive my jersey order and it has been 4 months.- I purchased a jersey from Jersey Loco on June 23rd, and paid for express shipping, hoping to receive it in time to start my soccer season. - On June 26th, they contacted me to advise that they were unable to provide express shipping and that they only had their standard shipping available. As I needed this jersey as soon as possible, I requested that my order be cancelled and refunded in its entirely, on the same day that they contacted me. - On June 30th, I reached out to them for a follow up as I had not received a confirmation or acknowledgement from their part. - On July 1st, they replied and advised that this would be escalated to management. - I followed up with them on July 6th and then again on July 11th, with no response, and I am yet to hear from them. The funds have been debited from my credit card and I have not received my item, nor have a I received a response or a tracking number.\",\n",
       " 'Received an incomplete order. Sended an email 3 times, without any answer. Still missing one shirt.',\n",
       " 'Order number 69604.  I am going through the same frustration as others with no action being taken by the company to resolve my problems. Emails, messengers, phone calls and no responses.  I have sent them another email advising them they have 7 days to resolve my problem or I will be taking further action. Please avoid this company!',\n",
       " 'We ordered a Hoffenheim jersey months ago. Funny how fast they took our money but they never delivered the jersey. We filed a fraud complaint with our bank and let JerseyLoco know. All of a sudden, they have offered a jersey of our choice if we withdraw the complaint and send them copies of the withdrawal letter which we did. Guess what? Still no jersey. Be very careful when ordering from them.',\n",
       " 'BE ADVISED!!! Do NOT order from this website.  Unfortunately, I have had to turn them into the BBB and now my bank is investigating them for fraud. I placed an order in July 2. It’s September 12th and I still don’t have the merchandise or refund. After 20+ emails, all I get is 2  emails stating sorry my emails went to spam & your order has been shipped out. A tracking number will follow in a couple days. But yet….still no tracking number or merchandise.  Again, DO NOT ORDER FROM THIS COMPANY!!!',\n",
       " 'I bought the home Crystal Palace jersey 21/22 as it was no longer available in the UK in my size. I received the product with no issue and was initially happy with the product. But after a few days I could tell that some of the detail is off. The badge is not straight and slightly bigger and not as bright as the original on the away 21/22 Jersey and other jerseys I have. Also the Pantone colour is the wrong on the sponsor. The website says they are original but it is clear they are just quite good fakes.',\n",
       " \"I have been waiting for 30 of June to till now 28 of August sending email after email with always they say track your order tired more than 30 times and I can't track it again live chat same track your order always same response a call to California international call from Europe to words us you don't really talk to no one just a pre massage saying pls leave you number we will call you which I find weird trying to look at there policy on web site live chat. Keeps popping up with no live agent I keep getting login out for no reason to the point I want nothing to do with them a want a refund was looking at polecy where should I go? Pls help\",\n",
       " 'They sent me a false tracking number and then reply that the item was probably lost and that they can send me again but then nothing, no answers. In fact they replied me telling my email was in spam accidentally but then when I ask for a refund they never answered again…',\n",
       " 'Ordered 30.6. 22 , 2 jerseys. Never delivered. Apparently all my emails went to spam. Today 18.8. 22 still nothing delivered. Never got tracking number. Will go to the bank a try to get the money back as this is 100% spam',\n",
       " 'I previously wrote that this is a scam site and still believe. After my first review they pretended to contact me to follow up on my order. Needless to say nothing further happened !Ordered in March and still nothing to show for it. Don’t do it is my advise. The good reviews are likely fakes !!You have been warned - do not use them !!!',\n",
       " 'They missed one jersey in my 3 for $100 order, two arrived 2 weeks after the order, 1 was missing. I sent them 3 emails, and in 4 weeks not a single reply, no customer service what so ever. So if you do order something you better hope everything is ok because if anything is wrong no one will bother to help you. Jerseys are ok, you can see it is not original, very good copies, but that why are those prices. And that is if you get everything what you ordered.',\n",
       " \"Having bought the genuine Nike home and away kits from official retaliers for my son here in the UK, the team's third kit was out of stock in my son's size. Unfortunately when the kit arrived it is obviously a fake. The quality of the material, logos and personalisation used are all obviously fake in comparison to the genuine kits bought from the club shop. Even the sizing of the sponsors logo and name set are all off.If you think you are purchasing a genuine official item, think again.\",\n",
       " 'First time ever purchasing a product from them and was hesitant at first. Price seemed to good to be true. Decided on buying a Ajax kit since my local store was out of stock. Took about 2 weeks to receive (California). But definitely worth the wait! Even took the kit to my local shop to compare the quality. Must I say, besides being perfect quality with a visual comparison, I will no longer be shopping elsewhere but from this company!',\n",
       " 'Ordered 2 different jerseys, and they accidentally sent me 2 of the same. That can happen, no problem, but i emailed them several times and tried to call them and there is no way to get in touch with them. They dont respond to email and they dont pick up the phone. Therefore i am very unhappy with this company and i will advice anyone against doing business with them.',\n",
       " \"The company requested for additional info so here goes. I ordered 3 jerseys on 06/08/2022 with order number 59022 for the sum of $120.47 before taxes but got 2 delivered. Numerous emails have gone unanswered. Phone goes to voicemail regardless of ehen you call. Won't respond to chats.\",\n",
       " \"There is currently a problem with the shipping for ny order and my package's in China since about 1 1/2 month and when i ask them for some more information on my order they dont actually help me so F YOU JERSEY LOCO bunch of scammers\",\n",
       " 'I ordered 3 jerseys and paid over 100 dollars on June 1st, June 15th says my order/shipping cancelled or exceptional delay occurred or cancellation. I really don’t know what an exceptional delay could be so today is June 28 and I still don’t have my items. I send them three messages and they did not respond me at all I ended up finally claim with my bank to get my money back I would absolutely not recommend this website you’re better off paying a little bit more price and buying from a trusted company.',\n",
       " 'When I first ordered from Jersey Loco at first I was a bit worried as the prices seemed to good to be true, I ordered when they had the 3 for $100 so I believed it was worth the risk, anyway, I am very happy with the quality of the 3 jerseys I got! They were awesome and they even got here sooner then I expected, I will definitely be ordering again! I usually don’t write reviews but I felt that from the products I received from Jersey Loco we’re great, so I felt as if it was only right to do so! I Highly recommend these jerseys!',\n",
       " \"I'm in the USA. I had doubts about ordering. Yes, it takes a bit longer for the product, but....when I opened the package, it was worth the wait. the quality is excellent, the fit is as well. All the complaints are delivery and odd things, but no complaints on the quality of the product. OK, it isnt made in the USA, what is. it ships fast, but it doesn't arrive in two days, so what. I highly reccomoent AAA.\",\n",
       " 'It been a month since i order some Amir black jeans. Sad things is that I spent almost 100 dollars on some damn jeans. I try to refund it back it wouldn’t let me so whoever buys from this Website. Do not do it! It a scam everyone it sad people still out here scamming our community and culture. Somebody need to get rid of this website or report it',\n",
       " 'If I could give a review of 0 I would. First off they are not in California as the website says. This F’n scam company is in China! I’ve been waiting weeks for my order and the site says your order will ship in a few days. I will never never ever buy a f’n thing from this company ever again. Save your money and buy somewhere else!',\n",
       " \"Ordered on December 18th and received my order on January 11th. Keep in mind we're still in a pandemic so having stuff shipped from China to America is gonna take longer than what you want to expect. Got my hoodie the way I wanted it, they'll get back to you when you email them for reassurance. You just got to have patience and it'll be there before you know it. 5 stars!\",\n",
       " 'Ordered a shirt on Jan 12, 2022 for a Tool concert on Feb 5. Supposed to arrive by the 27th. It’s been “in my city’s mail carrier” since the 23, but it says it’s cancelled. Despite the money being taken from my account as soon as I bought it. and the phone number on the website gives me a custom garage company in California.',\n",
       " 'Ordered a Guns N Roses hoodie on January 13 and just got it today and it was some Spanish hoodie. Not what I ordered. Tried calling the number from the site and could tell it was a scam site so just wanted to to leave a review to not order anything from this site. You WILL GET RIPPED OFF!!!',\n",
       " \"They are definitely a scam just call the numbers they give....one is for a garage door company and the other is some old white lady that told me she gets 30 calls a day about packages and have no clue what is going on. Now she just answer and say you have been scammed. The good reviews on here are people that are in on the scam!!! Let's figure out how to get the FBI onto this company trail\",\n",
       " 'I went online on 12/7/2021 and ordered a Formula 1 Lewis Hamilton bomber style jacket.  I kept a PDF of the online order.  I got no other correspondence from Ahashirt.  I could look up the order for two weeks on their website and then it disappeared.  It did show in production before disappearing.  The jacket showed up on 1/2/2022 and looked exactly as advertised.  I never received an acknowledgement email of my order.  So I had no idea if or when it would arrive.  Their customer email and phone numbers go unanswered.',\n",
       " 'IT HAS BEEN CONFIRMED,  THIS SO CALLED COMPANY AHASHIRTS IS BOGUS!!!! ORDERED SOMETHING IN 10/ 21 , ITS NOW 12/ 21....WHATEVER YOU DO STAY AWAY FROM THEM. THEY EMAILED ME A GENERIC RESPONSE THAT YOU CAN TELL IS FROM OVERSEAS WITH BROKEN ENGLISH. THATS DEFINITELY NOT HOW COMPANIES DO ANYTHING.',\n",
       " 'I’ve shopped with this page a total of 5 times first two times went extremely smooth, three times after were hell multiple times they didn’t even email back until days later , multiple times they couldn’t tell me where my actual packages were now I just purchased from them yesterday now they’re telling me they don’t have my payment and I have 3 transactions proving I paid for my item it will definitely be the last time I waste my money here',\n",
       " 'If I can rate them 0 I would proper scam artists, I placed order on 26 September worth £136, still haven’t received it, I have tried numerous times to contact them at first they were replying, and now they have stopped, seems like they’ve took my money and not post anything out to me, just ignoring me now AVOID AVOID AVOID they will take your money and not send anything',\n",
       " 'As of today 07/22/20 I havent heard from them. Paid $21.00 for DHL shipping (6-8 days) but Nothing yet almost 20 days later I have no idea what happened to my order. They sent me a tracking number wich dont show me NOTHING about the status of my order. also emailed them and havent gotten any answers(Order ID: 8995747Date Added: 10/07/2020Your order has been updated to the following status:All Shipped)',\n",
       " 'This is my second order from them and they always deliver...if an item is out of stock I am contacted to pick another or the money is kept in credit for next order. delivery is always on time, quality is top grade. I like them and their customer service experience is very quick and polite. I will definitely patronise them again and again.',\n",
       " 'Less than a month for my order to get to me and the quality is amazing down to the last stitch. I was a little concerned with some of the other reviews that I read, but I am no longer.\\xa0 I found my new spot to shop, look great without breaking the bank. The best find for me in YEARS!THANK YOUS.L.',\n",
       " 'I am very happy with my purchase with them.  It was a very good service and the delivery took around 5 days! Dock is the fastest delivery I have received from everything I bought from China.I knew I could trust AAAshirt. I will definitely buy more from them  and I recommend them to you who love brand clothes and stuff, it really good products better than DHgate anyway. Thank you AAAshirt!',\n",
       " 'I have bought from AAA over 6 times now. They respond on email in reasonable time for drastically different time zones. They have never sent me a defective product or the wrong product. All products are high quality and I can’t tell much a difference from actual REAL designer products I own. Any shipping logistics delays were Covid-19 related, my last shipment was complete within 2 weeks from order to delivery. I highly recommend AAA, the quality really is outstanding.',\n",
       " 'An absolute horrible site to purchase from. They charge you $50 -$70 dollars for 5-7 day service, but need 30-45 days to process your order.  CAUTION CAUTION CAUTION.  I may not even recieve my order.  I will keep you posted...Today I reached out again with no response.. 4 or 5 emails every day until I  paid for my merchandise.. now not a single response.',\n",
       " 'I was initially reluctant to place the order having read so many negative things about this company but decided to give it a try so I ordered eight shirts totalling £310. I’m so glad I did, not only was the quality very good, I received all the eight shirts within one week. They surpassed my expectations and I would be placing more orders with them.',\n",
       " \"Great communication,  Q's answered almost immediately.  Unlike other orders from PRC it had accurate constant tracking,  polo shirts arrived by USPS delivery four days after leaving the company!   For US customers,  ask which size translates.  If you wear XL with room to spare,  order an AAASHIRT  3-XL.   If its tight,  search for a 4-XL.  I found very few.\",\n",
       " 'I ordered a custom jersey on December 5th. It arrived 5 weeks later. It was a pittsburg steelers jersey and was sent to me in navy blue and yellow colors! I asked for a refund seven times. I asked them to cancel the order on the 3rd week. Instead of cancelling the order and issuing a refund, they shipped it anyways and then asked me to send a photo of the jersey so they could check it out. I did. Then they sent another email requesting a couple more photos in a different light! Besides making the customer jump through hoops to prove they received a defective item, especially when they received a request before they shipped it to cancel the order since it was late, I have discovered through reading these reviews that the company is fraudulent.',\n",
       " 'Quick delivery, good follow-up and the article matchs the description.',\n",
       " 'I had a great experience buying from Zartoni.  The delivery time is acceptable and the product is of very good quality.I recommend it!',\n",
       " 'Awesome selection of men’s clothes.  Ordered a bomber jacket.  Took a little longer then I expected to arrive.  No big deal. The jacket was very nicely packaged and fits and looks great. Will be ordering again.  Trust the size chart if you decide to use this. Definitely two enthusiastic thumbs up 👍 👍',\n",
       " 'Great product! I ordered a brown beanie from Zartoni, and it is incredible. Not only does it look great, it feels incredibly soft and warm. They will be one of my go-to companies for fashion. They have a diverse selection!',\n",
       " 'SCAMIf I could give zero ratings I would. Even with a tracking number, which I think is bogus, the item has still not arrived almost after 2 months. I would highly recommend everyone not to order from this scam of a company',\n",
       " 'The item that I ordered a month ago still not delivered. They can’t even provide the information what delivery service is used for. The tracking show my item is delivered but the item that I ordered is not shown up.',\n",
       " \"'Fraud' is the simplest way to describe what this company is doing.  I was not expecting much since the price of the items I purchased was surprisingly low, but what I finally received was no where close to the advertised items i thought I was buying. Moreover, sizing was wrong, the designs were different and the quality was non existent.  I do not know how companies like these get away with what they are doing!Stay away\",\n",
       " \"I had a great experience with Zartoni. The quality of the shirts and fabric and style were excellent. I love their shirts and I will be buying some vests soon. My only 'critical' comment is that the delivery took longer than expected. But, here in Canada, everything is slowed down due to Covid. Otherwise, great job! I will be a repeat/continued customer. Thanks so much :)\",\n",
       " 'THIS IS A SCAM!!! The jacket that i received seems very poorly made and the lable (brand) on the inside of the jacket is different to that on the photo. The Zartoni website says the clothes are Italian but you can see on the tracking page that the package ships out of shanghai. THE CLOTHES ARE OBVIOUSLY VERY CHEAP CLOTHES THAT ARE MADE IN CHINA AND MARKETED TO LOOK PREMIUM. You can also tell its a scam becasue the clothes are always \"on sale\". DO NOT SUPPORT!',\n",
       " 'I have called many times and always get a answering machine. I received an email, that I emailed back many times and still haven’t gotten a response on returning items. This a total scam and it’s very difficult to return items. This is extremely bad business and unprofessional. I expect a response back and will be doing a charge back on my credit card. I’ll be reporting you to the Better Business Bureau if I don’t get a response back within three days. With so many bad reviews, I will succeed my outcome. My order number is 66634',\n",
       " 'Worst experience for e-commerce, ever.  I ordered a shirt, two ties, and two vests on 11 April.  A shirt and vest showed up and were definitely back ally stuff like at a street market in Bangkok.  Cheaply made. Smelly.  Wrapped in plastic.  Website pictures are scammed.  The other vest and ties have not shown-up...buyer beware!  Zartoni keeps sending a USPS tracking number that isn’t active.',\n",
       " \"I order a coat and didn't care for the quality, so sent it back.  Getting information from them on how to send it back was pretty frustrating -- but I finally got the address (I had to pay for the return shipping myself).  They've had the return now for 3 weeks and still haven't issued a refund.  They keep asking me to wait a couple more days.  I filed a claim with PayPal so they can handle it and I'll get my money returned.  DO NOT BUY ANYTHING FROM THIS COMPANY.\",\n",
       " \"They claim to be Italian and ship things from Miami. The truth of the matter is they're cheap items from China. That's right, CHINA. Not Italy, but CHINA. Their size chart is so off that if you order anything from them I can guarantee it that they won't fit. And then good luck returning the items. The cost to return the cheaply made items will probably be more than the items themselves.STAY AWAY FROM ZARTONI. THEY ARE A COMPLETE SHAM AND SCAM.\",\n",
       " 'Christmas jumper, ordered on 13 Dec. Not told it would take weeks to arrive. When it did arrive (22nd jan - six weeks after ordering), it is way too big (small fits over 2 sweaters and I’m normally a medium anyway!). Quite a few loose fibres, knit is not very high quality. I would be fine with quality if size was good - it’s only a Christmas jumper after all. Sorry I don’t have anything more positive to add.',\n",
       " 'Placed my order for 3 beanies December 2, 2019 and finally received a notification it was delivered December 23,2019. Checked my mailbox for days, no package was delivered, no note or notice in my mailbox. The company customer service is a joke, and Arrive tracking service customer service is non existent altogether.I feel I have been had by a scam and will never see the product I ordered. Buyers beware',\n",
       " \"Zero star review.I ordered an item for $70 ended up paying $95 due to exchange rate fro USD to CAD and I still haven't received the the shipment yet !!! When I tried to contact them through their website I got an automated reply message with no helpful information.It is waste of time and money....I will call my credit card company to claim my money back.\",\n",
       " \"The order was placed 19 business days ago and I've gotten some bootleg Chinese tracking about this order since then. I fear that this is an illegitimate company and that they have stolen my money and I'm contacting PayPal to get a full refund. Beware of this company... It is not an Italian company but it's based out of China and if you purchase anything from them and go get bizzare tracking information from China.\",\n",
       " 'I bought a beanie hat and bracelet from Zartoni at a reasonable price. Unfortunately, the 2 items were shipped separately. The bracelet is leather but with cheap-feeling plastic rings on which was not clear in the description. The hat has been impounded by customs and I have to pay £13 on top of the cost of the item which makes it the most expensive hat I have ever owned. I am very disappointed',\n",
       " 'This place is pretty much a scam.  They billed me three times.  Of which I have not been returned.  So I was billed over $350 American. Never recieved any of my product.  Was in contact with them nermerous times and emails where sent saying I would receive my product and get my money back.  Nothing has happened and it’s been over 4 months now.  Sadly there is no one to call to report this business.  Don’t buy from them. Facebook should be vetting these advertisements.   Brutal!',\n",
       " 'I read all the reviews and pretty much gave up thinking I got scammed.  BUT...it actually arrived today.  Ordered it on 12/9/19 and arrived 1/8/2020.  So it took one month.  It looks like what I ordered and feels and fits great.  Only reason I didn’t give it five stars is because it’s not made by Zartoni, or least it didn’t have the brand name on it, instead it has “Honghe”, not quite as sexy as Zarotni.  I just took off the tag and it looks great!',\n",
       " 'I highly recommend TenThousand. I’m a huge fan of the jogger pants, very comfortable and wear extremely well, as do the shirts. I will continue to be a customer and I look forward to my next purchase. Great active wear!!!!!',\n",
       " \"Love this brand! I now own 4 pairs of the Foundation short, 3 pairs of the session short and 8 pairs of the Interval short, just adding the new color 'Vapor' to my line up. Highly recommend this brand and advocate for them to anyone who'll listen :)\",\n",
       " 'Matt was amazing!Ten thousand is an amazing product would highly recommend it to anyone that works out extremely durable and stylish.Evan',\n",
       " 'Have bought multiple pairs of shorts, shirts, and socks and have loved them all. Great customer service and great products!',\n",
       " 'Great company and great products!  Quality clothing and support staff was super helpful with sizing and ordering.',\n",
       " 'Great customer service. Love the shorts. The most comfortable I own.',\n",
       " 'They didnt send my order and said that the system had \"a glitch\". oh, but first they said that the merchandise had a hold at port which didnt make any sense since the system wont allow to purshase anything that is not available!!! Finally they offered a store credit like anybody in their straight mind would want to go through this whole process again. Not the experience you would like to have to buy 100 bucks shorts. Customer service to sort the problem was decent.',\n",
       " \"I bought multiple pairs in different orders and previously enjoyed the shorts. I recently had a pair's adhesive come undone while being cleaned, and I reached out about their Lifetime Guarantee which they refused to honor. No problems with other pairs, but TERRIBLE CUSTOMER SERVICE is unhelpful. If I could add photos of the glue coming off of the seam on Trustpilot I would. I don’t think the quality is very good for what they charge and how awful their customer service is. Wow! It was unbelievable how unhelpful and argumentative their customer service was. Stay away.\",\n",
       " 'If I could give this company 0 stars I would. It has been a month and I still have not received my order. Customer service rep told me order was shipped when I looked on the link that they had sent over the item shipping label had just been printed. So, a month to create a shipping label. TERRIBLE.',\n",
       " 'Bought 6 items 2 months ago. Only received 2 and haven’t received any updates on the other 4 items. Not worth the price for the clothes either. Very disappointedUpdate: 2.5 months later after contacting my credit card company about a fraudulent charge and then investigating it, they’ve decided to send me a tracking number so I guess the rest is coming now. Still would never order from them again.',\n",
       " 'Bought the versatile and the lightweight shirt. I really don\\'t like either of them. The sleeves are loose but I couldn\\'t go smaller as the shirt just fits the length to my waist. The material is like pinnie you would put on in gym class, and any claim at order protection is bunk. Sucked in by instagram adversting again..last time I buy anything through those ads without trying on first.I\\'m 6\\'2\" 205lbs and bought a large.',\n",
       " \"SCAM. Don't buy from this company. They had charged to my credit card but never sent me item more than 14 days without any updates. I sent an email to support, but they blamed me because they thought I had no patience. I really don't understand. Support team (Sarah and Angela) was not willing to help, but just yelled to me.\",\n",
       " 'Very poor when it comes to customer service. I was at first a fan of the company but it looks like that feeling is now gone. If you guys just want a short then go for it but I would not recommend their service. Their customer service is not existent at this point.',\n",
       " 'Ordered from them twice now, first time was during a big collab drop so I gave them the benefit of the doubt. I ordered a couple tees that took 3 months to show up and this second time it had been over a month when I asked what was going on and they issued me a refund and told me they sold me a product they didn’t have. Won’t be going to them again. Overpriced for what they’re selling you anyways.',\n",
       " 'I ordered a pair of shorts 18 days ago  and  had to reach out to figure out what happened since they have not sent an update yet. They said they had issues with manufacturer and my order should ship out any day..  Same thing happened again a year ago when I purchased my prior shorts. Their shipping, customer engagement is horrible. Nobody needs to chase for the service/item they paid on the day of the transaction.',\n",
       " \"I just recently discovered your products and have placed several orders over the last couple of months. Everything I've received is EXCELLENT! Super happy about everything I've gotten. The only thing that's a bit frustration is a lot of the products I want are out of stock. However I do understand these are unusual times and I'm sure your doing your best. Thank you.\",\n",
       " 'Got the distance shorts and the weld taping around the pocket started coming off after the first wash and now there is a hole where the pocket is connected to the shorts because of it. I contacted customer service about the \"lifetime guarantee\" and was pretty much told it was my fault and they don\\'t cover me damaging the shorts. I didn\\'t snag it, I didn\\'t pull it, I wash on cold and air dry, this is a manufactur defect. The guarantee is a gimmick. For almost $70 this is unacceptable. Plus the customer service is trash, either computer operated, or copy and paste responses.',\n",
       " 'This would have been my fourth purchase with TenThousand and will absolutely be my last.  A company that spends more on omni-channeling marketing than it does on its infrastructure to deliver a product.  Would have loved a product (that was in stock) within 4 weeks, but was too tall of an ask and no follow-up.  Purchase Legends or vuori shorts instead',\n",
       " 'Everything about my experience was great! The guidance online was spot-on for my fit and sizing, delivery was free and quick, and I couldn’t be happier with my products. The level of quality from Ten Thousand is amazing, and the overall experience was so good that I’ve been telling friends about it. Super impressed and will be back for more!',\n",
       " 'Wish I had investigated further before ordering. What people say is true -- customer service is abysmal. They simply do not have any of their s*** together. They have ridiculous processing/shipping timelines, and don\\'t give a damn about their customers. to make matters worse, they sent me an automated email asking \"how I like my shorts,\" before i received them! This is 2 days after I sent a customer service inquiry that was never replied to. insane.',\n",
       " 'This wasn\\'t the worst polo I\\'ve purchased, but VERY far from \"Perfect\". I wear an XL & they say it runs a little small so I got an XXL. It is still snug, but it\\'s just odd fitting. It\\'s too short to tuck in (I\\'m 6ft even) and the sleeves were way too short as well. It shows off the guns, but is uncomfortable for golf. It also just feels like a thicker cotton fabric like from the 80\\'s. With all the dry-fit, moisture wicking, soft, silk-like fabrics available I expected this to feel really nice, but it\\'s just average & not remarkable. Won\\'t buy another & this will sit in my closet the longest.',\n",
       " 'Great fit and feel, I have bought a range of colours and would highly recommend the cranberry! The navy blue is very similar to the black but is a great shirt none the less.Had issues with the order through customs but the baobab customer love team were helpful and kind.',\n",
       " \"For the life of me these are two smart guys but they're so stubborn and resistant and renaming this item my God you got to be able to let the customer say your name people don't know how to pronounce it and they got the perfect shirt. And the perfect name is the Perfect Polo\",\n",
       " \"Never buy from this company they are running a scam they took my money and canceled my order almost immediately this is the worst thing that's ever happened to me I don't know how they are still in business don't waste your money they won't give it back or send you any product\",\n",
       " \"Has the potential of being a really good shirt, however, its sizing is far off from conventional shirts.  I ordered their XXL expecting it will fit loosely and with room to shrink; I was shocked at how tight the shirt fit by the time it arrived.  Some of us don't like tight fitting clothing.  I'm trying to make contact with BAOBAB to process a return and they are no where to be found--they are not answering emails or otherwise.\",\n",
       " \"Terrible service. I ordered a med. shirt in sept, took forever to get here, returned it in nov for a large and still don't have it back as of dec 6th.They said it was delivered.  no phone Number to call them , emails are not promptly returned. They need to get their act together, terrible customer service.\",\n",
       " 'I have just ordered my third shirt from from Baobab. Obviously, I like the product. The fit is perfect and it is now my go to polo for business casual and business travel. It really does wear well and has the extra benefits of being perspiration resistant and easily washable.',\n",
       " 'The Baobab Polo shirt has exceeded my expectations from the first time I put it on. I literally feel invincible when I wear it! Not only does it compliment my build, but it can be worn in multiple settings. I look forward to ordering more colors to include in my wardrobe in the near future.',\n",
       " 'The pants are amazing! So comfortable. I literally wear them every day!',\n",
       " 'Ordered a pair of shorts three weeks ago. Still says waiting in item at post office. Have contacted multiple times and continue to be pushed off. They have no phone number to call. Terrible customer service. At this point they basically stole $70 from me.',\n",
       " \"Mostly based on poor fit. I am a true M in joggers/sweatpants. I ordered the Wayne Regretski's (khaki) joggers since that color is pretty unique. Delivery took quite a while (maybe 2 weeks?) and they felt like a size S. Very tight just about everywhere, and if they were to shrink at all they would be unwearable. So, as much as I like their marketing, their products just aren't as good.\",\n",
       " 'Possibly my least favorite company I have ever had to interact with. Bad product, insufferable advertising, no respect for their customers.',\n",
       " \"I own several pairs of BD pants and shorts, and the reason is simple.  Because they're so comfortable! Confusing pockets?!?! LOL get out of here.  They keep you wallet off to the side and the inside liner is amazing.  Got a pair and didn't like color, no problem they immediately shipped a different pair out for me. I'll continue to keep picking new pairs as they come out.  WORTH IT!!!\",\n",
       " 'Ordered a pair of 7\" shorts from them. Pretty disappointed overall with the construction. They fit more like 5\" shorts and don\\'t have enough leeway around the seat. Movements like deep squats can result in some pinching. The cords along the inner waistband may as well be non-existent because they\\'re so short. The pocket room is also very awkward to use. Expected much more for a pair of shorts at that price.',\n",
       " 'We were supposed to work together on a marketing campaign, for which my company was hired, and they disappeared and stopped responding to emails after the work had been delivered. Highly unprofessional and incredibly disrespectful of our time. Unfortunately the bill was not enough to take legal action. This company does not show an ounce of integrity in their dealings.',\n",
       " 'Ordered my first pair and loved them. Ordered another pair and, more than a month later, still waiting for them to be shipped. Tracking says the shipment is pending. Contacted the manufacturer and got nowhere. They blamed it on the coronavirus. Really, give me a break.  Customer service leaves a lot to be desired.',\n",
       " 'Unfortunately this is a scam site, they offer things at below market rates for a reason. After I bought I was charged and received and email of confirmation but weeks passed without shipping or hearing anything. I tried calling many times and sending various emails. I got one response after a week with the original confirmation email. I would really advise against using this site.',\n",
       " 'Slow service and never respond to messages or voice-mail. It\\'s been almost a month and haven\\'t received my order. This is what they promise on their website \"$20.00 via Expedited Priority Shipping ( 2- 5 Business Days) *All orders take 2 Business Days to Process\". Never going to order again. They lie that the order has been refunded. Never received the refund. They just take your orders as they dont have inventory and then place your orders in turkey for inventory. DONOT buy from this place. Spend extra money and buy original.',\n",
       " 'This is a total scam site.  The email address that is used to send the order confirmation is latinmaids.com and nobody will respond to any of my emails.  Please beware!!!After sending two emails to the merchant one for additional information and one to cancel the order completely, Gwen\\'s still did not respond so I had had my bank step in to assist.  Weeks after this, Gwen\\'s \"shipped\" out my order but who knows what is in the box, if anything.  If the item arrives as described, I will remove my review and cancel the dispute with my bank.  However, if the item does not arrive or if a different item is in the box, the review and dispute will remain.  Not sure why you wouldn\\'t respond to two emails but you will respond via Trustpilot?  That seems suspicious as well.',\n",
       " 'i never even received my order. It’s been over a month.',\n",
       " 'My go-to for the latest trends while saving my pockets!',\n",
       " \"Warning!!! Do not buy from this company!!! They send over a random coat from Pakistan and hope you won't bother to get your money back. They don't even try to replace your coat with the one they advertise with probably because it's non-existing.Don't do business with these people because it will cost you money for a coat that you did'nt want.\",\n",
       " 'My experience with this website was just okay. I was satisfied with the product that was delivered to me although some of the information present in the product description could not be seen on the jacket. The shipment came in just in time however, the customer service was slow.',\n",
       " 'I have received my jacket and I am extremely happy with it. I would like to take the time to thank everyone involved and I truly appreciate the effort.\\rI will be returning to do business with you in the next few months. \\rThank you so much for your excellent service.',\n",
       " 'I enjoyed using this website as it was pretty easy to use and to handle! The jackets were amazing and the prices made me scream in joy. There was a variety of jackets, ranging from guardian of the galaxy jackets to the batman jackets. This website made my day!',\n",
       " \"I purchased a men's Captain america jacket, they sent me a women's jacket (zipper on left).  I contacted them to replace it.  They said that rather than replacing it with the costs (to me) to ship and them to reship a new item.  It would be just as well to take a RCSO returning customer special offer 40% off next order.  So, eventually I find a female Cap fan and sell the jacket.  Now I wish to redeem my 40% off and they say that it expires 3 months after being issued.  Nowhere on the site or in the correspondence was that ever mentioned.  Just to solidify what kind of company this is;  I reviewed the item on their website and the review was REMOVED.  For a company selling a majority of Hero and Superhero type goods they do not appear to have any honor themselves.   So BUYER BEWARE!  As for me, I see my lawyer tomorrow, it is a matter of principle now.\",\n",
       " 'Comfortable clothings and good value for money. Thanks.',\n",
       " 'Ordered a soccer jersey two months ago, and it still has not arrived. Got a tracking number, but nothing since.  Have tried reaching out for assistance but no response. Think I’ve been scammed.  Do not work with this company.',\n",
       " 'I order à pair if shoes from them and I receive a tracking number who doesn’t work when I try to see update of where my shoes are so I have no idea if I’m gonna receive them very unprofessional from them that I cannot see if my item was shipped I don’t even know if I’m gonna receive them it’s Bein 2 weeks since I haven’t got knew my order number is 423721570',\n",
       " 'Ordered a pair of size 15 us men’s tiempos and I paid 40 dollar’s delivery ordered on the 22 nd of July and haven’t got a single update It was supposed to be delivered late august been waiting a month and halfI’ve also emailed twice and haven’t got a response Any answers ?',\n",
       " \"I have a question about my order. I placed an order for 3 jerseys on the 29th of July. It has said it's been processing since then and I would just like to know the state of the order. I emailed customer service however I have yet to receive a response. I would like to know if everything is okay.Order Number: 423163318\",\n",
       " 'I had to return 2 ítems of an order I placed. The process was simple but a bit harsh at the begining. The other ítems on my order (all football Shirts) were fines.',\n",
       " 'Absolute garbage material. I ordered 3 Barcelona jerseys and sweaters. And it’s the cheapest quality material and the Barcelona logo is a sticker. Garbage.',\n",
       " 'Stocked items and shipping time is not accurate.',\n",
       " 'After reading some reviews I was skeptical about ordering from the website. I still went ahead and order a chivas authentic shirt, the shipping was very fast i was supposed to receive it on Dec 22 but actually arrived on Dec 16 which is amazing the item was just as described I definitely recommend this site and will continue to order from here',\n",
       " 'Buyer BewareDo not use this company they are scammers and operate in a fraudulent manner.  Action has been taken against this company and they will be handled accordingly so they are held accountable and are not able to defraud any more innocent customers.All of their responses are generic and hold no value.  Worst experience in all my online shopping experience.  If you value your money that you work hard for - DO NOT use this company.',\n",
       " 'I ordered soccer boots in July. Sent them back because I decided to buy locally, I STILL have not received my refund and it has been 5-6 months.. I have called the company on numerous occasions and they change their answers everytime. Some of the employees are nice and its not their fault but in general the customer service is atrocious.',\n",
       " \"I order a Arsenal Goalkeeper (XL 2019/20) top back in December 2020 as a present, It took weeks to arrive and the quality of the shirt was POOR. I used the website information to return the product as the confirmation email gave very limited information on exchanges and returns. It explained that I should post write the address on the parcel and write the reason for return in the parcel. How do I go around a refund which I still haven't received? Order number #56683\",\n",
       " \"I ordered a customized jersey more than a week ago and they refuse to tell me anything other than it's being customized still even though they told me it should ship out 2 days ago! I called customer service and they won't give me an estimate on when it will ship! Don't order from this place unless you feel like waiting an extra month just to get your product! I have orders from here before and had no problems but it's not worth it anymore! My order number is 421005916.\",\n",
       " \"Paid over $100 for a Tottenham jersey. Beyond the order confirmation email I never heard from them again. I never got the jersey. I emailed customer service, they never got back to me. I called customer service several times, they never pick up, you just get put on hold for hours. It seems like a scam, don't buy anything from them.\",\n",
       " \"My delivery was right on time, excellent quality, prompt customer service, would definitely buy here again, glad i didn't get carried away by the bad reviews!\",\n",
       " 'I ordered a France 2018 jersey. It is unquestionably counterfeit, with its iron-on patch. Ordered a genuine one off eBay, and laid side-by-side all the differences between real and fake are super obvious. The company doesn’t answer their phone or respond to email. I’ve reported them to Nike and my credit card company.',\n",
       " 'Ordered multiple items that were on sale and looked very good for the brand I chose. Unfortunately all Nike and adidas items were cheap quality and worth nothing for the money I paid. To make my experience worse, I shipped items internationally and paid almost 80 Dollars more. Almost cost me $300 for no value at all. I am very disappointed with my experience with your service. Order no. 418095981.',\n",
       " \"I placed an order on November 27th for a Christmas gift. The shipping label shows it was created on 12/3 and has not had an activity since. I've contact support in regards to the status and was told not to worry. Guess it WON'T be here for our sons present on Christmas morning! Wouldn't recommend as their shipping is slow and their customer service is lack luster!!My order number is 418123759\",\n",
       " 'I believe Mr. David F must not like me or racist since I’m the only one he didn’t bother to reply on my review on this site! Once again I ordered a Chicago Fire jersey and received a Chicago fire jersey that’s not even on their website!! Called and customer service sounded just lost when I spoke to them. I sent back their jersey and to this date no refund or Jersey has been sent to me!!! Please stay away from this site!!!! BIG SCAM',\n",
       " 'I ordered a football top on the 17th November, it finally arrived today. I had been worried as it just seemed too long to wait. I also began to read reviews and had wished I hadn’t ordered from them. However, the quality of the LUFC top is good and I’m happy with my purchase. The company answered all my emails, think I sent five in all. Goods coming into the country will only get worse with Brexit, so maybe this is the new norm!',\n",
       " 'Dodgy inauthentic shirt I ordered and paid for shirt on 13th November after several emails I received shirt on 7th December.  The shirt was a knock off & not an authentic shirt ,the sizing ,material , letters  & no man utd authenticity sticker on the  label. I contacted the company with my concerns & was asked to send it back which I did on recorded delivery on the 8th December. I am still waiting for my refund & have sent several emails.',\n",
       " 'We wore KEP for our wedding and unfortunately the experience we had was overall stressful and disappointing. We would not recommend KEP to anyone that has a strict deadline and/or anyone who expects a high level of customer service. After receiving a few recommendations from friends, my now husband and I made an appointment in the NYC store on May 10 looking for white jackets and black pants (for made to measure) for our wedding on the west coast on August 20 (so, at least 3 months in advance). After a LOT of back and forth (finding white vs. cream fabric is a lot more difficult than it sounds) we finally found fabric that we wanted and on May 24 went through the entire process of getting measured and paying a lot of money (thousands of dollars each) for the outfits. Since KEP was a well-known brand, especially in the gay community, we were excited about our decision to splurge a little bit on this, with the expectation that the service would be great and that this would be something we didn’t need to stress out about last-minute. We were very wrong. Fast forward a month later, on June 21, we received a call from KEP saying that they actually didn’t have enough of the white fabric we chose to make two jackets, and there wasn’t enough time to wait until they received more in stock. So they said we should come back in to pick a different fabric. Since we already paid and already got measured and frankly didn’t have enough time to go elsewhere, we rushed into the store to pick a different fabric. The new fabric we chose cost more than our original, and given the situation KEP offered it to us at no additional charge. We felt like things were back on track and looked forward to our fitting a few weeks before the wedding to make any last-minute adjustments. More time goes by, and then we hear from KEP saying that they need to push our fitting from a few weeks before the wedding to 10 days before the wedding. We became more nervous, especially because we had planned for KEP to ship the outfits to the west coast so we wouldn’t have to travel with them. Then, when that date approached, KEP said we would have to push it to 8 days before the wedding (the Friday before). We became more nervous. When we came to the fitting, we learned that only the jackets were ready, and not the pants. The jackets needed adjustments. We asked when the pants would be ready for us to try on and they said they would let us know ASAP. The entire weekend went by and we did not hear anything from them. We called, messaged, and texted just about everyone we could find who works at the company and heard nothing until Monday morning (5 days before the wedding), when they said that everything is fine and that they are shipping our pants directly to the west coast. This obviously made us extremely nervous because this meant that we wouldn’t be able to trying our pants on prior to the wedding. We asked them to ship the pants to the west coast as soon as possible so we could get them tailored there if necessary. Miray (the co-founder of KEP), instead of apologizing for the last-minute scramble and rushing, reminded us how they have been good partners and assured us that the pants would be fine and that we had nothing to worry about. The pants arrived on the west coast 3 days before the wedding and they were, as expected, too big. In the midst of everything else going on, we had to rush a tailoring job (through a tailor we found on our own) and paid $90 to fix the pants. We picked up the pants the morning of the wedding.The thing that bothered us most was not the fact that our outfits arrived behind schedule. It was the extreme lack of service we experienced throughout the entire process. Communicating with the co-founder of the company, as well as the NYC representative, was always terribly painful. There was a lack of responsiveness, a lack of answers, and a lack of urgency. For a high-end store, we found the service to be seriously disappointing. Having to deal with last-minute adjustments before your wedding (among everything else) is one of the most stressful experiences in itself, but the feeling of having to deal with it alone, without the support of the company you just paid thousands of dollars to, is the highest insult. No one from KEP ever apologized for this experience, instead saying that they understand weddings can be stressful.After the wedding, we emailed Miray asking if they could reimburse us for the $90 rush tailoring. She did not respond. I followed up and said that we were planning to write reviews of all of our wedding vendors online. She did not respond.',\n",
       " 'There have been several occasions where my sales associate seems either mildly annoyed or clearly contemptuous of my asking detail-oriented questions about the $1500 suits I’m commissioning. Perhaps I’m too proletariat to appreciate the finer things in life but there does seem to be a snooty trend among the customer facing retail operators. That said, I LOVE my suits and keep coming back because the overall experience is excellent.',\n",
       " 'Waiton and crew went above and beyond to make sure my suit was delivered before my wedding, and the suit they delivered was absolutely stunning. I will trust them will all my future business and will highly recommend them to anyone looking to purchase a suit. I truly can’t speak highly enough of their customer service and the quality of their suits.',\n",
       " 'This place is at the intersection of top customer service and quality material. Josh and Evangel made me feel very welcome and answered all my questions with style and pose. By the end of the week, I found myself just wanting to stop in to say hi to my new friends. Definitely my go-to spot for all my future Vegas dapper fashion needs. (Also very LGBTQ friendly for any bois wanting a clean fit). Thanks again for making me look so good on stage!',\n",
       " 'Ric and Jeff are great! They created an experience at Klein, Epstein and Parker which has me immediately say I am a regular client. We created a suit expressing exactly who I am for my clients. Looking forward to expanding my wardrobe from Klein, Epstein and Parker with Ric and Jeff.',\n",
       " 'Tyson was AMAZING, as well as all the other amazing gentlemen who so kindly assisted me in my first purchase in Las Vegas!You have earned a customer for life that’s for sure! Exceptional service, 10 stars!',\n",
       " 'The entire team at the Fashion Valley location are always friendly, stylish and very accommodating. They get excited about the clothing which makes me even more excited to see the piece come to fruition.',\n",
       " 'Incredible and impressive knowledge! Yet perhaps more importantly, being able to advise on all the elements that go towards making a customized suit. Felt very comfortable and confident in my purchase.',\n",
       " 'Rude and unprofessional staff - customer experience is not their priority. The quality of their work is inconsistent. For the price point, might as well go to a JoS. A. Bank',\n",
       " \"Do you have an enemy who doesn't know they are your enemy? Send them to KEP for a wedding suit!My made to measure wedding suit was made made grossly incorrectly across numerous dimensions. They attempted to fix it repeatedly, and failed (while claiming it was fine). I eventually had to bypass their in-store people and go to their tailor directly. He said the suit had to be to be remade, but we had no time (because they dragged their feet). He had to cut the collar and add extra seams to get through my wedding, and it still didn't fit properly. One day of wedding usage damaged the fabric. They then made a replacement. It fit worse than before and I couldn't even put on the pants. To their credit, after this 3mo of hell they gave me my money back. Not to their credit they sent me an email out of the blue asking me to write this review.\",\n",
       " 'I wish I could use them more often.Clothing is superb.  Service equals, or exceeds clothing satisfaction which is clearly a \"five star\" product line',\n",
       " 'Gotta see Josh, man knows how’s to treat a client and gonna make you look good! Appreciate all the help getting my first made to measure suit!',\n",
       " 'Incredible service from Evangel, He was paying attention to all my needs and went further of all my expectations. Wow!! Thank you again!!',\n",
       " 'Great experience and hope to visit again soon. I purchased two polo/golf shirt that get so many compliments! Thank you!T.P.',\n",
       " 'Shirts are great, but first time they came with the wrong collar.  They were replaced at no charge but it took a long time.',\n",
       " 'Stanley was an awesome salesman and the rest of the crew were pleasant, polite, helpful, and extremely friendly.',\n",
       " 'Always available... always accommodating. The level of personal attention is exceptional.',\n",
       " \"Shirts ordered in January. It is June and I don't have them. Need I say more?\",\n",
       " 'All aspects of the experience were great.  Now just waiting to see my suit!',\n",
       " \"Awesome customer service by Oz.  Can't wait to see how my suit turns out.\",\n",
       " \"I placed an order 2 weeks ago and I haven't received any shoes yet. They don't even provide an order number in the confirmation e-mail so I can use the tracking in their website.I would consider this a normal problem if it wasn't for the fact that they never answer when I contact them. I've tried through e-mail, chat and answering to the confirmation mail. No response at all.Either this is a scam or they have gone out of business. If you want to see it for yourself, just try the chat in their website. No one will ever answer.If the company reads this, just help me and I will remove the review once the problem is solved.\",\n",
       " \"Scam still haven't received shoes or herd back over 1 month\",\n",
       " 'Ordered a pair of shoes last Monday with 2-4 days express delivery. Still nothing has happened with the order. I have emailed the company 3 times without response and I have also used their customer support messenger without response. There is no phone number that you can call.Order number: 1083',\n",
       " 'Like many of the other recent reviews, I placed an order a long time ago and have received no shoes, no shipping emails, and no response to my outreach. They do not provide any number to call, you just have to send an email and hope they respond. Their website touts “Shipped in 2-4 Buisiness days” which is clearly a scam to get you through their checkout. I’m considering a CC chargeback on this one - avoid this website. And Giga if you see this, I am order #1086',\n",
       " \"Ordered shoes.Advertises as made in the USACame in a plastic bag from ChinaPlastic, don't fit description, lower quality product than advertisesRequested a refund and still no answer.This is a dropshipping business and I would advise anyone else looking at buying from them to stay away.Btw giga my order number was #1039 and I will be disputing the payment with my credit card company as I have all the details and proof needed to get the money back.Either contact me today or after 15 days I'll get the money back anyway.\",\n",
       " \"Looks like a scam. No Shoes received, no emails back. Nothing at all!Edit: Order 1072. After nearly 2 weeks, I got a message to say their systems were down for messaging but was told my order had been dispatched. Still not received.Edit 2: it's now the end of August. (More than 2 months since I ordered) Never had anything back from them. Claimed my money back through PayPal. Do not trust.\",\n",
       " 'No response to emails and yet to receive the shoes, approaching two weeks since the order was placed. Avoid at all costs.',\n",
       " 'I’ve been waiting almost 4 weeks , I still haven’t received my trainers and I’ve had no response from my emails , there is no way to call them , I’m guessing it’s a scam but the webpage is very well made so who knows .Very dissatisfied',\n",
       " 'Feels like a scam, the order never arrived and they dont provide updates despite sending them emails.',\n",
       " 'Scam, no answer to emails or live chat. No tracking number. Order number #1082',\n",
       " \"Where do I start?! These insoles genuinely changed my life. Being a man who is 5'7 without shoes you always feel like you're at a disadvantage with women. When I wear Giga I stand at a proud 5'10 and feel sooo much more confident. My relationships and career have markedly improved since I started wearing Giga...I pray this brand never leaves us because I can't live without them!!\",\n",
       " 'Company has gone dead.  No shoes. No email. No phone number.  Nothing.  Scam!!!!Order #1076',\n",
       " \"I absolutely love the extra height and confidence my new insoles give me. Nobody suspects a thing either, they're so naturally and they fit inside all of my shoes perfectly. I'm from the UK and shipping was quick, only took a couple of days.\",\n",
       " 'They are very well made and have lasted a long time. Highly recommend to all men out there looking to increase there height a bit.',\n",
       " 'The confidence boost I get from wearing these is insane. These almost feel illegal to wear hahaha.',\n",
       " 'If women can wear make-up I get to wear this.',\n",
       " 'I saw a sweater I liked from Quinn on Facebook. As I was ordering it, a pop-up appeared that said I would receive a 20% discount if I provided my email address. It also stated that I would receive a confirmation email. I provided my email address and clicked the appropriate button. The confirmation email never appeared and neither did the 20% discount code. However, the following day I received an automated email message from Quinn that was a reminder that I had left something in my cart and they would give me 15% off if I completed the transaction. The next day I received another automated reminder that said they would give me  a 10% discount if I completed the transaction. I was annoyed because the pop-up promised a 20% discount. I tried to get a hold of one of their representatives using their website’s chat feature, but the chat feature was not manned. It said if I didn’t want to wait (forever apparently), I could provide my email address and someone would get back to me. I did this twice and also sent a regular email to Quinn, but it’s been five days and no one has responded. I wanted to call them, but their website does not provide a phone number. I’m shocked to see that there are so many good reviews about Quinn. I couldn’t possibly take the chance of ordering anything from them when they appear to be a very sketchy, fly-by-night company. I’m providing this review as an alert to people that Quinn doesn’t seem to be a reputable company. I would be very wary of purchasing anything from them. If you don’t receive the merchandise, you wouldn’t be able to contact anyone. And if you did receive it and needed to return it, could you trust that you’d get a refund?',\n",
       " 'The sweater I ordered is nice but getting it here was a challenge. I paid $15 extra for it to arrive in 2 days. It did not. I requested a reason and was given a dubious answer, and told that if it didn’t arrive my $15 would be refunded. It was refunded, but I would rather have had the sweater here on time and certainly would rather have had a “we messed up” than an excuse. I will order from Quinn again to see if the transaction will go smoothly.D. B.',\n",
       " 'This was my first experience with Quinn. On line ordering was seamless. Delivery was on time and the packaging was elegant.The cashmere quality is fabulous. I highly recommend this product and this company!',\n",
       " 'Well I received a tank top thinking it was “Quinn” brand but alas it was some other random brand......and the quality wasn’t as good the Quinn pieces I’ve purchased in past. :(',\n",
       " 'It took forever to receive the package. It fits okay. If you reopened your store, I never would have bought it.',\n",
       " 'Size 12 (45) runs half a size bigger. Still wearable. (Im size 12 in ultraboost and 11.5 in stan smiths)',\n",
       " 'Beautiful. Outstanding quality & true to size fit. I will definitely order from Quinn in the future.',\n",
       " 'Love the scarf I ordered as a gift for our daughter, so much so I ordered one for myself!!!!',\n",
       " 'Excellent service, excellent product, excellent deliver of product.',\n",
       " 'Great quality and helpful, fast customer service!',\n",
       " 'The products are if excellent quality.',\n",
       " 'Material inferior .',\n",
       " \"I wanted a Vigilante town coat to wear to school just to be the best dressed man, but they didn't have it. I was concerned about their low supply, so I waited and waited. The long process of waiting is more than a year now. I'm very disappointed at historical emporium. They try to find excuses to make it sound like they're extremely busy by blaming it on the pandemic.\",\n",
       " 'So I ordered a gun belt and 2 holsters from this website and I ordered everything on the 22nd of July and it took until the 5th of September to arrive. It took 45 days give or take to arrive, and when the gun belt and holsters arrived the gun belt didn’t fit me. Now I’m a 34 waist and I haven’t gained or lost any weight or changed waist size but I was very displeased when it arrived and it didn’t even fit! I haven’t brought this up with the company because I know I would just be smacked with a huge return package bill to only be refunded half of the amount I paid because of the cost of shipping that apparently takes 45 days to get to me. The only reason I’ve given them 2/5 is because the person I was emailing was very helpful. Oh and one last thing, I had to pay half of the amount of the order to customs for the package. Unhappy to say the least.',\n",
       " 'I agree that they are overpriced and out of stock on many things. I had to buy the item I wanted in a medium even though I wear small or x-small. And even the medium was \"special order\"I also read on Reddit that, as the person below me says as well, the brands they sell are actually much cheaper and they mark them up enormously. But what I\\'m most upset about is the lack of warning that there would be a large customs bill delivering to Canada. I order so many packages that never charge me customs that I forgot it was even a thing. Now I have this $50 bill for something I didn\\'t even want... I was given a gift certificate for Historical Emporium so I used it because why not. I didn\\'t expect this huge bill to receive it. I want to send the item back now and I just know it\\'s going to be a huge headache to deal with trying to get it sent back. NOT impressed.',\n",
       " 'I have ordered several items from Historical Emporium, and never been disappointed. Everything I’ve ordered has been of high quality, durable, fits well, comfortable. Excellent customer service and quick delivery (I live fewer than 100 miles from their location). I frequently get compliments on their products. Historical Emporium clothing is one of the mainstays of my wardrobe.',\n",
       " 'I ordered two top hats, both the same size.  One was too small.  Very disappointed to learn that I would need to spend $54 to ship back the hat.  Deceptive return policy, and poor size descriptions.  While I like the clothing, I will not shop with this vendor again due to their return policy.',\n",
       " 'At first glance, Historical Emporium seems like a dream come true for victorian clothing enthusiasts. However after the initial glee of browsing through their decent selection of reproduction clothing, one my come to realize that Historical Emporium largely is just a resale mark up of Wah maker and frontier classic brands. While that is understandable, and forgivable. What I can not stand is the complete lack of stock in normal or smaller sizes. Nearly every item in their Catalog is out of stock in any size below obese. And this happens fairly quickly as well. You would think that they would order larger batches of the smaller sizes that sell out.Long story short, I do not see myself giving any more business to The over priced Historical Emporium even if they had something in my size.',\n",
       " 'I ask for why they dont ship to Spain (when they are shipping to the other european countries )and i discovered that they think that all of us are buglars and cheaters. Awfull and insulting by the way',\n",
       " \"If I could give zero stars, I would. I strongly recommend steering clear of this company. They have zero respect for history or those who lived it.I ordered a model ship of the USS Des Moines from them via Amazon. I placed the order for my 83 year old grandfather who served on the USS Des Moines more than 60 years ago. He was so excited to have and work on a model of this decommissioned ship that he has so many memories of. We eagerly awaited its arrival and when it finally came we opened the box to find... the wrong ship.When I submitted the return request, The History Store told me that if I sent it directly back to them, they would send the correct ship (instead of just getting a refund through Amazon). They sent me a shipping label that I brought, along with the ship, to The UPS Store. As with any Amazon return, they said they would take care of sending it back.A few days later, I was given a $60 refund. When I inquired about the replacement ship, I was told by The History Store that they would not be sending one. They claimed that the product was not packaged correctly for return and could no longer be sold as new. Because of this, they charged me a $90 restocking fee and refunded the remaining $60.Amazon reached out to the seller on my behalf to explain the situation and request that the full amount be refunded. The History Store refused and suggested that I take it up with the UPS Store. I couldn't do that as The UPS Store requires pictures of the damaged package as well as other details they would have (as the ones that paid for the shipping and received the package). When I pointed this out to them, I received no response.Overall, The History Store provided absolutely appalling customer service, especially given the fact that they sent the wrong product to begin with. My grandfather still does not have his ship. We'll be looking to purchase one from a different seller.\",\n",
       " 'Great selection of Wild West, steampunk and Victorian clothing. I ordered one of their steampunk getups for Halloween and loved my outfit.',\n",
       " 'I placed one star here because it\\'s the only way I can write a review. Beware of ordering from here. Period. Two \"single\"  cotton hankerchiefs, totaling $26.00. They are selling items at 3X to 4X cost and are not who you THINK you have placed your order thru, which is BELK stores. BELK should be ashamed of their poor vendor (marketplace) selections. If you order from BELK on-line... Beware! Cannot reach this company by phone. Cannot return items. Cannot get help from BELK either. Thank goodness only $26.00 and not a large purchase. Thank goodness.',\n",
       " 'Do not shop at this company.  I tried calling to ask a few questions about a $6,000.00 order I was going to place.  I tried over 20 times on different days and times, BUT no one would answer the phone except a Robot.Poor Customer Service so I will spend my money elsewhere.',\n",
       " 'Ordered a \"pajama set\", only the top came and the color was so vastly different than what was on their website, which looked more like a bluish grey. The pajama set was overpriced anyway.. feel sick to my stomach to have blown over $35 for nothing. Too many liars and thieves in this world, that\\'s for sure!',\n",
       " \"I ordered 2 stretch braided belts (identical to the one I already own, just different color) in size M 34-36. When they arrived it was obvious that they were mis-labeled & actually were closer to a size L 40+. I sent them back via Wal-Mart. Now I'm being charged a return shipping fee for their mis-labeled product. On-line customer chat choose to ignore my request for assistance & closed that chat conversation w?o any assistance. VERY POOR CUSTOMER SERVICE!!! I'd give no stars if possible.\",\n",
       " \"Immediately after purchasing, I called to cancel. I left a voice mail with my name, order number and return phone number. Got no reply. I then sent 2 emails asking to please cancel. NO REPLY. I had to go through PayPal before they deigned to answer me, to which they replied that they never received anything  from me asking to cancel. This is absolutely unacceptable. They tell you right on their website to call if you need to cancel. What's the point?! I do NOT recommend this company. They took 4 days before even shipping, yet told me it was shipped and they cannot cancel now. Maybe if you would have replied when first contacted, you could have canceled the item. Negligent\",\n",
       " 'SCAM! SCAM! SCAM!I received nothing but paid over 150$!No answer from the company!',\n",
       " \"I paid 100 € for my order, and after the confirmation email (more than 50 days ago), I have not received anything. I tried to contact them, but they don't respond.\",\n",
       " 'This is a terrible company with the worst customer service I have ever experienced. They shipped my order to the wrong country, refused to correct their mistake and stopped answering their emails. I finally managed to get my order sent to me (no thanks to this company) and the pants I ordered are about 6 inches too short! Do yourself a favor and avoid them like the plague.',\n",
       " 'Placed my order on 2nd march 2020. Shirt never arrived. email their customer service but recieved reply that the domain no longer exists. The website matchutailor.com is also kot found. I have ordered several shirts previously without issues. I suspect covid19 has cause it to go bust. However, i think the company should at least announce on their site. Wondering is there any channels for me to lodye a compain?',\n",
       " \"Slim fit shirts are really very fitting. You may want to put a slightly higher weight if you don't want a very fitting shirt, but still slim fit. Website also honoured its perfect fit guarantee and helped me remake a shirt that wasn't fitting around the neck. The bamboo cotton shirts are of good price-to-value ratio.\",\n",
       " \"It actually worked!I was skeptical that with the few dimensions they asked for it would actually fit. But, for once in my life, I have some collared shirts that fit well. The neck collar was a little big, which I'll adjust for the next time I order with them. I'll definitely be getting more things!\",\n",
       " 'I ordered shirts on Jan 1, 2020. No problem in charging my credit card.  I recevied an invoice and was told I would receive an expected date I would receive my shirts.  No confirmation came.  Emailed on Jan 22 inquiring about my order.  No response.  Emailed again Jan 27th and received an automated response someone would get back to me. No follow-up.  Called the PH # on their website (213) 785-8151; appears to be disconnected as it did not even ring.At best they have gone out of business and have no staffing.  At worst, this is a scam.Save time and aggravation, do not order from them.',\n",
       " 'Purchased for 300 USD. I never got any item which I ordered. Not any response on my request. Do NOT purchase there. SCAAAAM',\n",
       " 'Nice and easy experience, would like to see more options for guests to punch in all the different sizes from a previous shirt they have. Also better pictures for the two collar monogram locations. I could not understand where they are.',\n",
       " 'Shirt is really poor quality and material for the cost of it. I didn’t feel like they actually used the fits I typed in. Do t waste your money for this cost you could go to a tailor in the UK',\n",
       " 'Shirts fits like a glove but a little tight in the chest so as to make a gap in the placket. Took 19 days from order date to deliver, which seems normal for a custom shirt.',\n",
       " \"I've placed my order nearly 1 month ago and still haven't received it.Your website's chat does not respond to my questions.I'm beginning to think this site is a scam!\",\n",
       " 'Amazing service, great quality will order again. The delivery took a month knowing that I ordered from France. It is the only downside. Still, it was worth the wait.',\n",
       " 'It was great, the process was easy, I really loved it. The only thing I would like to improve is customer service, but besides that, I really recommend it.',\n",
       " 'You should provide better customer services like chatting with customer care. They dont respond at all. And features like return and track.',\n",
       " 'Terrible shipping... Have not recieved my shirt in over a month. They have no control over their sales and terrible customer support.',\n",
       " \"Somehow the jacket fits perfectly, the system the measure with is just amazing.  I've never had a jacket fit so well.\",\n",
       " 'my sleeves was a little shortEdit: Got a new shirt (free of charge) that fit perfectly after a couple of weeks.',\n",
       " 'My replenish shirt never arrived. They dont answer after. It is a scam do not buy. Trust me',\n",
       " 'the suit was received earlier than estimated. I received the product I chose.',\n",
       " 'Terrible customer support and return policy, I bought the same pair of shorts as I have and they are smaller.They have refused to issue a refund even though I have send the product back to them over a month ago.Will never buy again and strongly suggest you do not buy either.',\n",
       " 'I ordered a 34/34 in pants and they sent a 36/30. Really? Why not check what you are packing against the actual order?',\n",
       " \"The pants fall apart after a few washings and the zippers break easily on the pockets.  Customer service is terrible and this company is garbage. Don't waste your money.\",\n",
       " \"Terrible customer service and impossible to make returns or exchanges.So unimpressed and while their clothes arent bad I will no longer be a customer for this reason. It's just not worth it.\",\n",
       " 'I ordered two pairs of pants and two shirts on a Wednesday morning, and opted to pay for express two day shipping because I needed the items for a work trip the following week. My items are somehow scheduled to be delivered six days from my confirmation purchase date. I contacted customer service and their response was that fed ex doesn’t deliver on weekends, although two day shipping should’ve had my parcel arrive on Friday. I contacted fed ex, and they deliver to my address on weekends. I am both confused and appalled. I like their clothing, but cannot recommend based on their customer service.',\n",
       " 'Buyer beware!!!  If you have to return any clothing (and you likely will) not only does postage cost $30 but Public Rec will then claim to have not received your parcel.  This company is a scam.  I have read multiple reviews describing the same scenario.  They are hoping you will just give up so they can keep you money and your clothing.',\n",
       " 'I hate to sound rude but I had good expectations for the edp, but they are not fully thinking about us short people. I ordered a 32x28 and the ankle opening was so large! I stood and it just looked like mom jeans. It was not really slim tapered as expected. Sure if I paid 20 bucks whatever but this pant is over 100usd and it fits like pant from target. It’s a good thing I returned it.',\n",
       " 'Purchased two pairs of of the same workday pant. Upon arrival, one of the items was size labelled incorrectly as it was clearly a size or two smaller than the label read. I printed out the PR return label and promptly sent back requesting a replacement of the same pant in the correct size. Waited.... no pants and follow up with PR representatives and they can’t find my return?? Now, out of pocket for cost of the pants plus return shipping and no product. Good product but this company needs to improve their quality control and business processes. I do not recommend this company',\n",
       " \"I ordered 2 pants for gifts for men. Adult pant did not fit true to size to what was worn in other brands. They were tight in the crotch and uncomfortable. The material might have been okay, but the fit was off. The other pair was for a teen and also tighter in all areas for a very thin youth. No wonder the pants were on sale! Here is the rub, the pants can't be returned. They claim the ad said no returns. So buyer beware.\",\n",
       " 'Terrible quality product! I bought a pair and wore them and realized the pockets were not completely finished and I lost a personal keepsake that fell out of the pocket. I contacted them and they could have cared less about my losing something very personal to me due to their TERRIBLE quality control. Never will buy again!',\n",
       " 'I have 2 pair of the everyday pants and I like them a lot. I ordered another pair that were on sale the same size as my other 2 pair and I received pants that say they are my size but they are about 2 sizes smaller on the waist. Poor quality control! Or they are dumping the mismarked pants onto its customers. Since they were on sale no return!!! BS!',\n",
       " 'It took 3.5 weeks for it to arrive and I was greatly irritated by this but the product was more than enough to offset damage done by their poor delivery.   I bought the everyday pant in a 30 / 30 which fits perfectly.   Very comfortable and stretchy.   They would have received a 5 but the delivery took a week or longer then it should have.',\n",
       " 'Great service and product!! I inquired about a military discount and was advised that none was offered but they did give me a special discount which I greatly appreciated.  They responded quickly and I ordered the pants.  Pants came within 3 days. The fit was perfect and the material is top quality. I will order more pants in the future.  Thank you!!',\n",
       " \"EDIT: I appreciate the response, I have updated the rating, since the pants were pretty nice once I got them. It must have been a terrible coincidence.OLD: I haven't got my clothes yet, but ever since I submitted the form with my phone number, I have been getting telemarketing calls non stop.I can't say for sure if it's related, but it is an awful coincidence and it makes me think you're selling everyone's data for profit.\",\n",
       " \"I have purchased several times from this company. I always order the same size. They had a clearance sale and when I received those 2 pair of pants they were clearly sized or labeled incorrectly, about 2 sizes too small. I did not want a refund, just to exchange for the size I ordered. They said exchanges to clearance items and wouldn't even check them out to see that they were not correctly labeled.This is not not a company that has any interest in having satisfied, repeat customers and this was likely a scam to clear out overstocked or perviously returned items.\",\n",
       " \"Really disappointed because I had such a strong start with this company. Honestly, I do think their joggers are generally great fitting, super fashionable colorways and nice material.That being said...this is now my 2nd pair though that after 1 single wash (and a single wear in this instance, mind you), it comes out with crazy notable stretch marks in the material. Terrible QC.I reached out and was told I could not return or exchange as I'm outside of the window and the best they could offer is 20% on new orders.50% of my purchases here have has this issue...no thanks.\",\n",
       " 'Fantastic pants!! I have the ADED and I’m a big lad and they fit great, are stretchy without being baggy, look good and feel fantastic! They wash well and dry fast. I’m after buying a bunch more now including the Workday Pant to try out! It was a small gamble buying online, sight unseen, especially when getting pants which can be notoriously tricky to get right; but it paid off big time! New favourite pants now!',\n",
       " 'I am a big fan of Public Rec clothing. Fit is a big deal for me. I am tall and thin and the fact that I can choose my waist and inseam sizes on their pants is not easy to come by with other brands. Especially with zippered pockets. The ADED pants are perfect for what I need. I can wear them to work and home. With the faux fly in front and non-baggy fit, they look like a dressier pant but are soft and comfortable as any sweat pant.',\n",
       " 'A few years back, I bought a pair of the \"all day every day\" pant and within 1 year, the under-crotch seam opened up about 3 inches. These $98 or so pants do not leave the house anymore. Even today, it seems as though PRec is still evolving in their designs, materials, and quality when us customers would have expected these things to have already been fine-tuned prior to release- especially at this price point.',\n",
       " \"I love the Public Rec clothing line!  My adult daughter bought me a Polo for Christmas and I love the fit and fabric.  I've since bought several Go To Crews, Polos, long sleeve casual shirts and pants.  They all fit great, keep their shape, are easy to wash and don't wrinkle up.  You can wear them to the office, casually with friends and just around the house.  I recommend giving them a try!  You won't be disappointed!\",\n",
       " 'A rewards program provides benefits based on your purchases (for ex., points usable in future purchases). Their \"Member Rewards\" is more akin to a club, like Sam\\'s Club or CostCo, where you pay an annual fee to become a member for a year. Except KingSize\\'s Member Rewards charges $14.99 MONTHLY. Unless you\\'re buying enough for your shipping and codes to offset $180 a year, it\\'s not worth it. In my case, where I haven\\'t bought clothes from them from over a year, that\\'s money down the drain.And that\\'s just the beginning; the amount of catalogs they send me and my wife for their multiple brands is a small forest-worth of paper. Trying to stay top-of-mind with their marketing sure is expensive in terms of our environment.',\n",
       " 'I\\'ve tried several times to collect my rewards and or apply \"afterward\" for my free shipping privileges without success because your company has made a process, that with other companies is so simple, ridiculous and seemingly purposely overcomplicated so that people give up. Why not have the \"supposed\" free shipping kick in automatically? Stop making people jump through hoops, it makes you all look like thieves.',\n",
       " \"They did the same thing too me again saying I have multiple accounts when I question them there response was I had had 3 accounts this year.  Well yes I have because you keep canceling them saying I have multiple then . Say oh no you don't and I have to open a new one. Plus my card did get hacked and since it has to go through a card and not a account  you have to cancel your account and start over because they can't change your payment method.   They need to get there act together\",\n",
       " \"Please be aware that this company might slip that $14.95 charge on your account without your authorization or if they get that authorization it is through a deceptive practice. I will never purchase another item from this company. They then told me that all major retailers have similar programs but I don't get similar charges. It may not be theft or fraud but it is so very close.\",\n",
       " 'I noticed 5 months of $14.95 charges on my credit card from King Size Rewards, went to opt out, there website says log in to account, them from account drop down says go to cancel membership, no such option anywhere on the website! Terrible practice, never authorized them to charge me every month regardless of they will tell you! Be very cautious when placing any order!',\n",
       " 'I just found out this company has been charging me subscription fees for the last year when I never signed up with them.I went through their site its just a bunch of hidden text when u buy something. then the make a account for you without you knowing u dont even pick ur own user or pass. then they e-mail you the details. so when ur u-mail labels them as a spam you never even see the e-mail.Unless i get my money back im going to dedicate the next few months of my life to ensuring i report this company to every possible place possible',\n",
       " 'CrooksI received a bill for $14.95 to my credit card after a purchase. Customer Service stated I agreed to the rewards program. I did not! Signup is hidden or so fine that customers miss it and get billed. They even billed my credit card that I did not have on file. They stole it from my purchase information. Customer Service did refund my $14.95 and removed me from their \"rewards program\". They still secretly have my credit card information.Shady business practice.',\n",
       " 'It’s a great program as someone like myself who shops at the site a lot it’s nice for them to reward and show they appreciate their customer with the program. Only issues I have is the fact when you order something you have to submit the information vs it picking up from the site automatically. Also I don’t really like that we have to pay for it each month. But really appreciate the site it’s saved my life a bunch of time :)',\n",
       " 'Scam.   A $15 monthly fee for a \"Rewards\" program is absurd.  Let alone for one where you must submit individual claims for your \"Rewards\".The fees are mentioned at the end of the details in small type, I consider this to be a dishonest business practice.When i asked King Size Direct (KSD) about this issue, they claim that the rewards program is run by a different company and it was out of their hands.I am terminating any business with King Sized Direct.  So hopefully they\\'ll enjoy that 15 bucks.  It\\'s the last they\\'ll get from me.',\n",
       " '99 times out of 100 and i have ordered over 100 items, the items i have ordered are spot on. If you still buy those crappy pants from dockers or the \"other\" place that tear constantly, you are crazy. I still wear pants to work that i bought 7 years ago. They get washed every week. Color has faded a bit, but they are still dependable and have not torn or worn in the crotch area. Finally, good dependable clothes that last for us big guys.',\n",
       " 'I never signed up for this, and was hit for $14.95/month. You should be ashamed of the way you do business. You are no different than a pick pocket on the street, you bunch of crooks. I will never spend another penny with your companies and will share with everyone I can about what a scam this is. Shame on you!',\n",
       " 'This is fraud. I did not know there was a fee involved which is automatically deducted every month. I don’t recall agreeing to this: it must be deceptively worded with the intent to SCAM. I have been a long-standing customer, but will no longer be shopping with this company.',\n",
       " 'This \"rewards\" service is a complete SCAM.They sign you up with promises of \"savings\", and then the proceed to charge you $16 month.When you call the King Size company, they play dumb and insist that King Size Rewards is a completely different company.SCAM. FRAUD. DISHONEST.This should be shut down!',\n",
       " 'I never received the initial credit...that I know of.  Hard to get a hold of these people.   I am not sure what I am getting for the $16 that I have been charged since January.   Did receive a $5 credit this month.  Cancel it, it seems to be a con.Update.  14min later.  As you can see they replied by not trying to address my concerns (initial credit, program details, contact info) , but saying they would be happy to cancel me.  Of course, they have taken several months of fees first.',\n",
       " 'I will never order from this place again. I love the product I received; however, like so many others on here, I was scammed with a monthly $15 credit card charge for their rewards program that I didn’t authorize. This place is straight up FRAUD!',\n",
       " 'Never saw this came with a fee. Looks like you got a free $16 out of my PayPal. I’ll dispute it and contact the BBB. Your pop up said sign up for rewards and get free shipping. Maybe explain that comes with a monthly charge. I won’t ever use your service again. Ordered 2 times from your company and you managed to mess them both up. One was for 2 pairs of sweatpants (sent the wrong size but I kept them anyways because they are sweat pants who cares) and one was a 4 pack of boxers and every pair of boxers was a different size (how the hell did you manage that?). Combine that with your dreadfully slow shipping that costs too much money and your terrible email support and you lost a customer for life.',\n",
       " 'First, I cannot find access to the check my rewards balance. Second, rewards expire too quickly to be used. Third, no one responds to emails or other correspondence. Fourth, I would like to cancel since I have to pay for it',\n",
       " \"I received a fraudulent charge of $14.95 from FBB*KINGSIZE REWA in my bank statement 4 months after I purchased a few belts from KingSize.com. This is absolutely shameful and despicable that they would trick people into signing up for something they had no idea what for, especially 4 months later! This could've gone unnoticed for months if I hadn't checked my statement tonight when it went through. UPDATE 02/08/2022: I am now also seeing charges that go all the way back to November of last year. This is absolutely reprehensible predatory behavior.I will be filing a report with the Attorney General, a Consumer Fraud Report with the Department of Justice, the FTC, and filing a Consumer Complaint with the Better Business Bureau. This is predatory business practices!This is NOT okay!DO NOT DO BUSINESS WITH THIS COMPANY!\",\n",
       " \"I absolutely LOVE Kingsize Tee shirts. They fit extremely well and are durable. So when I received an offer to purchase three of these incredible men's shirts at $10.00 each I naturally jumped on it. Well, found out I could not order them online. Got on the live chat with a Kingsize customer service rep and was promptly informed I would need to call a special number so I did. The rep who answered the call was very pleasant and personable and yes, I was able to purchase the three shirts at the advertised price. The trouble was, after providing all of the information required I was then informed I would need to purchase an additional shirt at a price of $21.00. This brought my total purchase to $70.00. I was using my wife's bank card to make this purchase and yes, I had her permission but she hit the roof when she found out what it cost us. I think these are unfair and deliberate targeting of people attempting to take advantage of an advertised bargain and is highly unethical. I cannot say if it was the rep or if this is company policy but in either case, much as I love their shirts, I will buy elsewhere from now on.\",\n",
       " \"The amount in an email was $10 more. I don't trust your math at all. Also, I am in good standing and not able to use credit. No idea why, no communication.\",\n",
       " 'Have ordered three items from camp saver - one was delivered and was not all dented up - and two more of the same item are on the way - considering that I returned two titanium cups to the large box store for a refund because they had been dented - I found it surprising that campsaver would send out the titanium cups from them with no box - just a cup floating around in a plastic mailer with no protection - which is fine if nothing happens to it but all it takes is one incident along the delivery chain and then you would have a hassle to return it and blah blah blah - other than that - things are okay.     update: received the other two cups this time they were packaged in cardboard and looked new - however one had what looked like an old price label ripped off the information wrap around the outside of the cup and the other had no outside information wrap at all - so inventory must be low - besides sharing that information I have no complaints about product and condition of all three cups I ordered and received from campsaver.',\n",
       " 'They let me order shoes that aren’t  in stock without telling ahead.Thank god I needed the shoes to arrive in a specific time. that made me check with their mail service about the arrival of the shipment, then realised they even dont have the shoes and they are waiting for them to get back in stock so they would  ship them to me - in three months from my date of order.It’s written 8-10 business days the day I order.',\n",
       " 'I ordered a smoker, and 14 days later, the order was \"still processing.\" I contacted customer sercive twice and received 2 different stories about why the smoker was delayed. I was promised a shipping confirmation next day, and I never got it',\n",
       " \"Camp saver completely dropped the ball with my last purchase. I ordered several items, 1 that was on backorder. An email said the backordered item wouldn't be available until the next month. Fine, I can deal with that. Two weeks go by and there's no word about the items that weren't on backorder. I wrote to customer service and they kept telling me the one item was on backorder but didn't mention the others. This went on until the backordered item was finally available almost A MONTH after I ordered and everything was shipped.I contacted them again to see why everything else wasn't shipped while waiting for the backordered item. Their excuse: To keep shipping free, we try to do it all together. Yet, the backordered item was shipped an entirely different method than the rest of the stuff. That means they could have shipped everything else MUCH earlier and then the last item when it arrived. I bought everything for a camping trip and thanks to how long they took shipping everything, I wasn't able to take it along.\",\n",
       " 'I placed an order on a Saturday for an item I really, really needed for a once-in-a-lifetime trip. This was after Amazon messed it up. Their \"risk management\" department came back with a handful of intrusive and ridiculous questions about the item\\'s purpose, end user, and final destination. Okay, I thought, I\\'ll play your stupid game because I have no choice. My clock is ticking. It then sat there for FIVE DAYS while I practically begged them to release it. Nope. I wound up canceling, and now I don\\'t have this thing I counted on having. They don\\'t care even a little. Heed the horrible reviews and don\\'t shop here.',\n",
       " \"Campsaver.com customer service is outstanding!  Vickie was very helpful, friendly, professional, and efficient.  She cheerfully stood behind the company's price matching guarantee and refunded me the difference between the sale price and original price that I paid for the boots that I purchased.  I will definitely order from campsaver.com again.\",\n",
       " 'I am purchasing at CS for years and I have never faced any problems with them. Same about the returns and refunds. The only complaint could be my feeling that they seem to postpone the free shippment to make you purchase the express one.I tested the return after about 1/2 a year too. No problem,  I received the shop credit at the day the merchadise was delivered.',\n",
       " 'Their inventory and shipping times are fanciful dreams. I\\'ve ordered from CampSaver many times hoping it\\'d be different, believing the excuses they give me, and I\\'ve finally decided to just give up and know that, well, they\\'re just that: excuses for a poorly run business with a horrible logistics operation that hides behind small text, disclaimers, and plays fast and loose with facts & math.The crux of it is this: if you say you can ship something on time, in a given time frame, and especially if I pay extra for a given level of service, I expect that kind of service. Not in an unreasonable way, I know things aren\\'t perfect (esp in a pandemic/post-pandemic world where labor and other items are still recovering), but every time I order from CampSaver, they never ship on time, and it takes so long I have to call to cancel (and you can\\'t cancel it online despite them saying you can... if you can, I\\'ve never been given the option), and when it happens consistently (every time) the excuses about \"longer than normal warehouse times\" or \"product availability wasn\\'t properly updating on our website, sorry, just a one time bug\" or similar become really patronizing and just aren\\'t believable, they\\'re either lying or so poorly run these issues are systemic, constant, and they should just not make any commitments. Neither reason is good at all! Sure, they cancel the order and I get my refund eventually (thus not only one star, that\\'s reserved for outright scams...), but this isn\\'t much better. It feels like they take your order HOPING they have inventory (even if they say they have it, I have waited up to 10 business days for it to ship before I just gave up) and if they have it and their warehouse can get it together to put it in a box and send it, they ship it, I guess, but otherwise, they just hold on to your money until you ask for it back.Their prices aren\\'t much better than Backcountry, REI, Moosejaw, etc, but their warehousing & logistics operations are absolutely a disaster.',\n",
       " 'Gross overcharge for a 1-3 day delivery service ($165USD). When checking their USPS tracking details - they actually used a lower delivery method of 3-5 Days which equals around $65~ for the package I was being delivered. When pulling them up on the sneaky overcharge, they refused to refund the difference. Lack of respect & obviously trying to make a profit at their customers expense.',\n",
       " 'I purchased a Sierra Designs Flex Capacitor 40-60L backpack from Campsaver.com, and I had a rewarding experience. I placed my order on a Wednesday and received the backpack the following Tuesday. I was extremely pleased with the fast processing and shipping. Better yet, the customer service was terrific. The reps I spoke with were helpful, professional and friendly, and they were not pushy at all. I highly recommend Campsaver.com.',\n",
       " 'One of the top 3 worst shopping experiences ever, not worth even one star. Placed order and paid when there were a couple dozens of items in stock, 4 days later I hear back saying my order was cancelled because the product is not available.',\n",
       " \"Ordered a pair of climbing shoes, but they turned out to be a tad too big.  No prob, shipped back to Campsaver on their own dime.  Got another pair and too small.  You guessed it, sent back again at their cost.  Received pair #3 (again at campsaver.com's cost) and they are perfect!  So easy to deal with, great prices, and exceptional return/exchange policies.  One really can't ask for more.\",\n",
       " \"I had terrific customer service. Ordered last weekend. My order arrived today (total 6 days). I think people who commented in recent months didn't take into account the problem with the USPS. I saved $73 per pair of shoes which is substantial. There was a glitch with the website so I ended up ordering over the phone and the people at Campsaver couldn't have been nicer.\",\n",
       " \"I ordered an item December 1 for a Christmas present and to date it has only ever shown as in process. That's 17 days so far without any progress and I have called customer service every day this week. They only tell me that they have tried escalating my order assuring me that it is not a back order issue they are simply that back logged. I will never do business with this company again.\",\n",
       " 'I ordered a tent in august and it had not yet delivered.  They keep moving the delivery date and when I contacted them, they said\"you can cancel the order at anytime\"....  an incredible disrespectful approach to doing business...  I won\\'t cancel my order and I am waiting to see how long it will take for them to deliver my purchase. So far almost 5 months.  My order number is Order #16175318',\n",
       " 'Trash Company, avoid like the plague. Ordered a bike box with express shipping (~$290 + $60 shipping), 8 working days later and they are still \"processing\" the order. If you can\\'t fulfill customer orders, don\\'t accept payment for so many...there are plenty of competitors out there who will do a much better job & happily take the business you are clearly unable to handle.',\n",
       " 'Placed an order which was shipped via UPS - order was over $1600.00.  Received a confirmation that it was delivered, though it never was.  Campsaver would NOT return emails, so I disputed the charge with my credit card.  Two months later, it arrives.  Campsaver instantly contacted me for their money.  Communication is terrible, order process was terrible.  I would NEVER place an order with this company again.',\n",
       " 'Do not buy from campsaver.com.   They sent me the wrong item, twice, and I only ordered one item.  If I had to wait for a backorder, it would be another 2 months before I seen the item I ordered, and camping season will be over by then.  I should charge them interest for holding onto my money.  Fortunately for them, the lowest rating I can give them is one star, they actually deserve a negative 5 star review.',\n",
       " 'This was not a good experience.  I made a large several item order.   No acknowledgement.  Three weeks later, I received one item that was marked irregular.  When I eventually got a hold of customer service, which was in and of itself a challenge, they said they would precess a return, but I have heard nothing.  Camp savers is not a legit site.  Beware.',\n",
       " 'The site promises a 5-10 day delivery window. It has been 1 Month and still no delivery or communication regarding the delay. Speaking of communication, Campsaver communication is horrible. It is next to impossible to get up with them because when you call an automatic response tells you that \"they are not currently taking calls...\" and when you e-mail you get no response.']"
      ]
     },
     "execution_count": 61,
     "metadata": {},
     "output_type": "execute_result"
    }
   ],
   "source": [
    "worst_combined = wcm_1 + wcm_2 + wcm_3 + wcm_4 + wcm_5 + wcm_6 + wcm_7 + wcm_8 + wcm_9 + wcm_10 + wcm_11 + wcm_12 + wcm_13 + wcm_14 + wcm_15 + wcm_16 + wcm_17 + wcm_18 + wcm_19 + wcm_20\n",
    "worst_combined"
   ]
  },
  {
   "cell_type": "code",
   "execution_count": 81,
   "id": "ed4d63e7",
   "metadata": {},
   "outputs": [],
   "source": [
    "import pandas as pd\n",
    "df = pd.DataFrame(worst_combined)\n",
    "df.to_csv('Worst_20.csv')"
   ]
  },
  {
   "cell_type": "code",
   "execution_count": null,
   "id": "b3916685",
   "metadata": {},
   "outputs": [],
   "source": []
  }
 ],
 "metadata": {
  "kernelspec": {
   "display_name": "Python 3 (ipykernel)",
   "language": "python",
   "name": "python3"
  },
  "language_info": {
   "codemirror_mode": {
    "name": "ipython",
    "version": 3
   },
   "file_extension": ".py",
   "mimetype": "text/x-python",
   "name": "python",
   "nbconvert_exporter": "python",
   "pygments_lexer": "ipython3",
   "version": "3.9.12"
  }
 },
 "nbformat": 4,
 "nbformat_minor": 5
}
